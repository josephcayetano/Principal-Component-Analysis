{
 "cells": [
  {
   "cell_type": "markdown",
   "id": "310eb196-41d9-4ddf-95dc-2fb79b97b39d",
   "metadata": {},
   "source": [
    "## Task 3 Principal Component Analysis"
   ]
  },
  {
   "cell_type": "code",
   "execution_count": 28,
   "id": "6c0008ff-33f2-4c83-9ef4-459079c95bde",
   "metadata": {},
   "outputs": [],
   "source": [
    "import pandas as pd\n",
    "import matplotlib.pyplot as plt\n",
    "import seaborn as sns"
   ]
  },
  {
   "cell_type": "code",
   "execution_count": 29,
   "id": "5efd8a2b-f7d8-487d-a363-7e0c55e6a120",
   "metadata": {},
   "outputs": [
    {
     "data": {
      "text/html": [
       "<div>\n",
       "<style scoped>\n",
       "    .dataframe tbody tr th:only-of-type {\n",
       "        vertical-align: middle;\n",
       "    }\n",
       "\n",
       "    .dataframe tbody tr th {\n",
       "        vertical-align: top;\n",
       "    }\n",
       "\n",
       "    .dataframe thead th {\n",
       "        text-align: right;\n",
       "    }\n",
       "</style>\n",
       "<table border=\"1\" class=\"dataframe\">\n",
       "  <thead>\n",
       "    <tr style=\"text-align: right;\">\n",
       "      <th></th>\n",
       "      <th>ID</th>\n",
       "      <th>Price</th>\n",
       "      <th>SquareFootage</th>\n",
       "      <th>NumBathrooms</th>\n",
       "      <th>NumBedrooms</th>\n",
       "      <th>BackyardSpace</th>\n",
       "      <th>CrimeRate</th>\n",
       "      <th>SchoolRating</th>\n",
       "      <th>AgeOfHome</th>\n",
       "      <th>DistanceToCityCenter</th>\n",
       "      <th>...</th>\n",
       "      <th>RenovationQuality</th>\n",
       "      <th>LocalAmenities</th>\n",
       "      <th>TransportAccess</th>\n",
       "      <th>Fireplace</th>\n",
       "      <th>HouseColor</th>\n",
       "      <th>Garage</th>\n",
       "      <th>Floors</th>\n",
       "      <th>Windows</th>\n",
       "      <th>PreviousSalePrice</th>\n",
       "      <th>IsLuxury</th>\n",
       "    </tr>\n",
       "  </thead>\n",
       "  <tbody>\n",
       "    <tr>\n",
       "      <th>0</th>\n",
       "      <td>4922</td>\n",
       "      <td>255614.8992</td>\n",
       "      <td>566.62</td>\n",
       "      <td>1.000000</td>\n",
       "      <td>4</td>\n",
       "      <td>779.42</td>\n",
       "      <td>20.56</td>\n",
       "      <td>5.62</td>\n",
       "      <td>39.46</td>\n",
       "      <td>10.08</td>\n",
       "      <td>...</td>\n",
       "      <td>4.93</td>\n",
       "      <td>4.44</td>\n",
       "      <td>4.55</td>\n",
       "      <td>Yes</td>\n",
       "      <td>Blue</td>\n",
       "      <td>No</td>\n",
       "      <td>1</td>\n",
       "      <td>13</td>\n",
       "      <td>181861.54230</td>\n",
       "      <td>0</td>\n",
       "    </tr>\n",
       "    <tr>\n",
       "      <th>1</th>\n",
       "      <td>5009</td>\n",
       "      <td>155586.0947</td>\n",
       "      <td>1472.34</td>\n",
       "      <td>1.000000</td>\n",
       "      <td>2</td>\n",
       "      <td>656.13</td>\n",
       "      <td>15.62</td>\n",
       "      <td>5.63</td>\n",
       "      <td>40.51</td>\n",
       "      <td>7.89</td>\n",
       "      <td>...</td>\n",
       "      <td>4.08</td>\n",
       "      <td>5.56</td>\n",
       "      <td>6.83</td>\n",
       "      <td>No</td>\n",
       "      <td>Green</td>\n",
       "      <td>No</td>\n",
       "      <td>1</td>\n",
       "      <td>17</td>\n",
       "      <td>50042.59757</td>\n",
       "      <td>0</td>\n",
       "    </tr>\n",
       "    <tr>\n",
       "      <th>2</th>\n",
       "      <td>4450</td>\n",
       "      <td>131050.8324</td>\n",
       "      <td>550.00</td>\n",
       "      <td>1.779354</td>\n",
       "      <td>3</td>\n",
       "      <td>754.57</td>\n",
       "      <td>12.47</td>\n",
       "      <td>9.20</td>\n",
       "      <td>48.38</td>\n",
       "      <td>23.74</td>\n",
       "      <td>...</td>\n",
       "      <td>4.26</td>\n",
       "      <td>8.07</td>\n",
       "      <td>8.48</td>\n",
       "      <td>Yes</td>\n",
       "      <td>Green</td>\n",
       "      <td>Yes</td>\n",
       "      <td>2</td>\n",
       "      <td>34</td>\n",
       "      <td>48400.34440</td>\n",
       "      <td>0</td>\n",
       "    </tr>\n",
       "    <tr>\n",
       "      <th>3</th>\n",
       "      <td>1070</td>\n",
       "      <td>151361.7125</td>\n",
       "      <td>941.81</td>\n",
       "      <td>2.035254</td>\n",
       "      <td>2</td>\n",
       "      <td>439.59</td>\n",
       "      <td>22.22</td>\n",
       "      <td>7.08</td>\n",
       "      <td>94.67</td>\n",
       "      <td>5.22</td>\n",
       "      <td>...</td>\n",
       "      <td>4.45</td>\n",
       "      <td>5.00</td>\n",
       "      <td>6.27</td>\n",
       "      <td>Yes</td>\n",
       "      <td>Red</td>\n",
       "      <td>No</td>\n",
       "      <td>1</td>\n",
       "      <td>14</td>\n",
       "      <td>84594.12145</td>\n",
       "      <td>0</td>\n",
       "    </tr>\n",
       "    <tr>\n",
       "      <th>4</th>\n",
       "      <td>400</td>\n",
       "      <td>113167.6128</td>\n",
       "      <td>550.00</td>\n",
       "      <td>1.064644</td>\n",
       "      <td>3</td>\n",
       "      <td>353.03</td>\n",
       "      <td>8.28</td>\n",
       "      <td>5.93</td>\n",
       "      <td>16.80</td>\n",
       "      <td>43.13</td>\n",
       "      <td>...</td>\n",
       "      <td>3.36</td>\n",
       "      <td>5.46</td>\n",
       "      <td>6.99</td>\n",
       "      <td>No</td>\n",
       "      <td>White</td>\n",
       "      <td>Yes</td>\n",
       "      <td>1</td>\n",
       "      <td>21</td>\n",
       "      <td>22934.59654</td>\n",
       "      <td>0</td>\n",
       "    </tr>\n",
       "    <tr>\n",
       "      <th>...</th>\n",
       "      <td>...</td>\n",
       "      <td>...</td>\n",
       "      <td>...</td>\n",
       "      <td>...</td>\n",
       "      <td>...</td>\n",
       "      <td>...</td>\n",
       "      <td>...</td>\n",
       "      <td>...</td>\n",
       "      <td>...</td>\n",
       "      <td>...</td>\n",
       "      <td>...</td>\n",
       "      <td>...</td>\n",
       "      <td>...</td>\n",
       "      <td>...</td>\n",
       "      <td>...</td>\n",
       "      <td>...</td>\n",
       "      <td>...</td>\n",
       "      <td>...</td>\n",
       "      <td>...</td>\n",
       "      <td>...</td>\n",
       "      <td>...</td>\n",
       "    </tr>\n",
       "    <tr>\n",
       "      <th>6995</th>\n",
       "      <td>6987</td>\n",
       "      <td>307821.1758</td>\n",
       "      <td>550.00</td>\n",
       "      <td>2.111022</td>\n",
       "      <td>4</td>\n",
       "      <td>892.35</td>\n",
       "      <td>11.89</td>\n",
       "      <td>7.97</td>\n",
       "      <td>28.18</td>\n",
       "      <td>19.23</td>\n",
       "      <td>...</td>\n",
       "      <td>4.76</td>\n",
       "      <td>3.81</td>\n",
       "      <td>6.87</td>\n",
       "      <td>No</td>\n",
       "      <td>White</td>\n",
       "      <td>Yes</td>\n",
       "      <td>1</td>\n",
       "      <td>18</td>\n",
       "      <td>241131.63070</td>\n",
       "      <td>1</td>\n",
       "    </tr>\n",
       "    <tr>\n",
       "      <th>6996</th>\n",
       "      <td>6995</td>\n",
       "      <td>421368.8869</td>\n",
       "      <td>1726.12</td>\n",
       "      <td>4.056115</td>\n",
       "      <td>2</td>\n",
       "      <td>943.19</td>\n",
       "      <td>34.06</td>\n",
       "      <td>5.82</td>\n",
       "      <td>90.45</td>\n",
       "      <td>17.60</td>\n",
       "      <td>...</td>\n",
       "      <td>5.31</td>\n",
       "      <td>9.84</td>\n",
       "      <td>10.00</td>\n",
       "      <td>No</td>\n",
       "      <td>White</td>\n",
       "      <td>Yes</td>\n",
       "      <td>1</td>\n",
       "      <td>18</td>\n",
       "      <td>481604.80730</td>\n",
       "      <td>1</td>\n",
       "    </tr>\n",
       "    <tr>\n",
       "      <th>6997</th>\n",
       "      <td>6996</td>\n",
       "      <td>473382.5348</td>\n",
       "      <td>1026.36</td>\n",
       "      <td>2.077177</td>\n",
       "      <td>5</td>\n",
       "      <td>149.31</td>\n",
       "      <td>0.10</td>\n",
       "      <td>8.81</td>\n",
       "      <td>31.79</td>\n",
       "      <td>11.59</td>\n",
       "      <td>...</td>\n",
       "      <td>4.98</td>\n",
       "      <td>7.47</td>\n",
       "      <td>2.96</td>\n",
       "      <td>No</td>\n",
       "      <td>Green</td>\n",
       "      <td>No</td>\n",
       "      <td>1</td>\n",
       "      <td>13</td>\n",
       "      <td>380555.49390</td>\n",
       "      <td>1</td>\n",
       "    </tr>\n",
       "    <tr>\n",
       "      <th>6998</th>\n",
       "      <td>6998</td>\n",
       "      <td>343397.9756</td>\n",
       "      <td>2218.22</td>\n",
       "      <td>1.000000</td>\n",
       "      <td>4</td>\n",
       "      <td>526.81</td>\n",
       "      <td>11.18</td>\n",
       "      <td>9.20</td>\n",
       "      <td>15.21</td>\n",
       "      <td>3.96</td>\n",
       "      <td>...</td>\n",
       "      <td>4.68</td>\n",
       "      <td>7.66</td>\n",
       "      <td>6.12</td>\n",
       "      <td>No</td>\n",
       "      <td>Blue</td>\n",
       "      <td>Yes</td>\n",
       "      <td>1</td>\n",
       "      <td>10</td>\n",
       "      <td>442610.31710</td>\n",
       "      <td>0</td>\n",
       "    </tr>\n",
       "    <tr>\n",
       "      <th>6999</th>\n",
       "      <td>7000</td>\n",
       "      <td>438060.8193</td>\n",
       "      <td>1553.57</td>\n",
       "      <td>3.988377</td>\n",
       "      <td>4</td>\n",
       "      <td>844.06</td>\n",
       "      <td>18.80</td>\n",
       "      <td>10.00</td>\n",
       "      <td>26.07</td>\n",
       "      <td>24.40</td>\n",
       "      <td>...</td>\n",
       "      <td>8.80</td>\n",
       "      <td>6.66</td>\n",
       "      <td>5.19</td>\n",
       "      <td>No</td>\n",
       "      <td>White</td>\n",
       "      <td>Yes</td>\n",
       "      <td>1</td>\n",
       "      <td>19</td>\n",
       "      <td>492214.95980</td>\n",
       "      <td>1</td>\n",
       "    </tr>\n",
       "  </tbody>\n",
       "</table>\n",
       "<p>7000 rows × 22 columns</p>\n",
       "</div>"
      ],
      "text/plain": [
       "        ID        Price  SquareFootage  NumBathrooms  NumBedrooms  \\\n",
       "0     4922  255614.8992         566.62      1.000000            4   \n",
       "1     5009  155586.0947        1472.34      1.000000            2   \n",
       "2     4450  131050.8324         550.00      1.779354            3   \n",
       "3     1070  151361.7125         941.81      2.035254            2   \n",
       "4      400  113167.6128         550.00      1.064644            3   \n",
       "...    ...          ...            ...           ...          ...   \n",
       "6995  6987  307821.1758         550.00      2.111022            4   \n",
       "6996  6995  421368.8869        1726.12      4.056115            2   \n",
       "6997  6996  473382.5348        1026.36      2.077177            5   \n",
       "6998  6998  343397.9756        2218.22      1.000000            4   \n",
       "6999  7000  438060.8193        1553.57      3.988377            4   \n",
       "\n",
       "      BackyardSpace  CrimeRate  SchoolRating  AgeOfHome  DistanceToCityCenter  \\\n",
       "0            779.42      20.56          5.62      39.46                 10.08   \n",
       "1            656.13      15.62          5.63      40.51                  7.89   \n",
       "2            754.57      12.47          9.20      48.38                 23.74   \n",
       "3            439.59      22.22          7.08      94.67                  5.22   \n",
       "4            353.03       8.28          5.93      16.80                 43.13   \n",
       "...             ...        ...           ...        ...                   ...   \n",
       "6995         892.35      11.89          7.97      28.18                 19.23   \n",
       "6996         943.19      34.06          5.82      90.45                 17.60   \n",
       "6997         149.31       0.10          8.81      31.79                 11.59   \n",
       "6998         526.81      11.18          9.20      15.21                  3.96   \n",
       "6999         844.06      18.80         10.00      26.07                 24.40   \n",
       "\n",
       "      ...  RenovationQuality  LocalAmenities  TransportAccess  Fireplace  \\\n",
       "0     ...               4.93            4.44             4.55        Yes   \n",
       "1     ...               4.08            5.56             6.83         No   \n",
       "2     ...               4.26            8.07             8.48        Yes   \n",
       "3     ...               4.45            5.00             6.27        Yes   \n",
       "4     ...               3.36            5.46             6.99         No   \n",
       "...   ...                ...             ...              ...        ...   \n",
       "6995  ...               4.76            3.81             6.87         No   \n",
       "6996  ...               5.31            9.84            10.00         No   \n",
       "6997  ...               4.98            7.47             2.96         No   \n",
       "6998  ...               4.68            7.66             6.12         No   \n",
       "6999  ...               8.80            6.66             5.19         No   \n",
       "\n",
       "      HouseColor Garage Floors Windows  PreviousSalePrice  IsLuxury  \n",
       "0           Blue     No      1      13       181861.54230         0  \n",
       "1          Green     No      1      17        50042.59757         0  \n",
       "2          Green    Yes      2      34        48400.34440         0  \n",
       "3            Red     No      1      14        84594.12145         0  \n",
       "4          White    Yes      1      21        22934.59654         0  \n",
       "...          ...    ...    ...     ...                ...       ...  \n",
       "6995       White    Yes      1      18       241131.63070         1  \n",
       "6996       White    Yes      1      18       481604.80730         1  \n",
       "6997       Green     No      1      13       380555.49390         1  \n",
       "6998        Blue    Yes      1      10       442610.31710         0  \n",
       "6999       White    Yes      1      19       492214.95980         1  \n",
       "\n",
       "[7000 rows x 22 columns]"
      ]
     },
     "execution_count": 29,
     "metadata": {},
     "output_type": "execute_result"
    }
   ],
   "source": [
    "df = pd.read_csv('C:/Users/jcaye/Downloads/D600 Task 3 Dataset 1 Housing Information.csv')\n",
    "df"
   ]
  },
  {
   "cell_type": "code",
   "execution_count": 30,
   "id": "fcf4356c-2c69-4a8b-b4ed-b3d1b6d9a441",
   "metadata": {},
   "outputs": [
    {
     "data": {
      "text/plain": [
       "Index(['ID', 'Price', 'SquareFootage', 'NumBathrooms', 'NumBedrooms',\n",
       "       'BackyardSpace', 'CrimeRate', 'SchoolRating', 'AgeOfHome',\n",
       "       'DistanceToCityCenter', 'EmploymentRate', 'PropertyTaxRate',\n",
       "       'RenovationQuality', 'LocalAmenities', 'TransportAccess', 'Fireplace',\n",
       "       'HouseColor', 'Garage', 'Floors', 'Windows', 'PreviousSalePrice',\n",
       "       'IsLuxury'],\n",
       "      dtype='object')"
      ]
     },
     "execution_count": 30,
     "metadata": {},
     "output_type": "execute_result"
    }
   ],
   "source": [
    "df.columns"
   ]
  },
  {
   "cell_type": "markdown",
   "id": "ae4f3659-b9eb-42e1-ade8-dd4c37a153dc",
   "metadata": {},
   "source": [
    "### B1. Propose one research question that is relevant to a real-world organizational situation that you will answer using linear regression\n",
    "\n",
    "<p>The research question that is relevant to the housing information dataset and can be answered using linear regression is: Which property characteristics most significantly determine housing prices?</p>"
   ]
  },
  {
   "cell_type": "markdown",
   "id": "bc9e01de-2812-4b2c-a7f5-29eee07d67e6",
   "metadata": {},
   "source": [
    "### B2. Define one goal of the data analysis\n",
    "\n",
    "<p>One goal of the data analysis is to identify the key property attributes that significantly influence housing prices, using linear regression. This goal can help stakeholders such as real estate companies and developers prioritize which features to include in new construction projects that have the highest potential return, and develop accurate house pricing strategies. This data analysis goal is within the scope of the scenario and data.</p>"
   ]
  },
  {
   "cell_type": "markdown",
   "id": "0527863c-3824-4bd4-9a7d-70021a6d46d9",
   "metadata": {},
   "source": [
    "### C1. Explain how PCA can be used to prepare the dataset for regression analysis. Include expected outcomes\n",
    "\n",
    "<p>To perform PCA on the housing dataset, the first step is to standardize the data using the StandardScaler() function from the sklearn library to ensure all continuous variables are on the same scale. The second step is to transform the standardized data into principal components, which are linear combinations of the original variables in the dataset. Principal components are ordered by the amount of variance they explain. For example, the first principal component (PC1) captures the most variance, followed by the second (PC2), and so on. The third step is choosing the number of principal components. The key is choosing enough PCAs that capture most variance. The last step is use the chosen PCAs as input variables for the regression model instead of the original variables.</p>\n",
    "\n",
    "<p>By performing PCA on the regression model, there are a few expected outcomes. First, it simplifies the regression model by reducing the number of variables while maintaining most information in the data. Second, it reduces multicollinearity between variables since PCA creates uncorrelated components from correlated features. Third, it improves the regression model's performance by focusing only on components that capture the most variance.</p>"
   ]
  },
  {
   "cell_type": "markdown",
   "id": "7790cf40-caeb-46d3-9074-66e72956ffc1",
   "metadata": {},
   "source": [
    "### C2. Summarize one assumption of PCA\n",
    "\n",
    "<p>One assumption of PCA is that it assumes a linear relationship between variables. PCA performs well when variables show straight-line relationships, as it can then effectively reduce the number of variables and remove multicollinearity while keeping the most important patterns in the data. If the relationships between variables are non-linear, PCA may not capture the important patterns in the data. Data transformations must be performed to turn non-linear variables into linear, making it suitable for PCA. </p>"
   ]
  },
  {
   "cell_type": "markdown",
   "id": "41aa4f95-abca-4cc0-badd-3f13e177adb7",
   "metadata": {},
   "source": [
    "### D1. Identify the continuous dataset variables that are needed to answer the research question"
   ]
  },
  {
   "cell_type": "markdown",
   "id": "39ff32fc-6b20-4634-b764-85fd8d26d97c",
   "metadata": {},
   "source": [
    "<p>I have identified the continuous variables that I will use to answer the research question from part B1. Price will be the dependent variable because our research question focuses on determining which property features most significantly impact housing prices. Price represents the housing prices we want to predict and understand, making it the logical choice as the dependent variable. The other continuous variables that I have chosen are: SquareFootage, NumBathrooms, NumBedrooms, BackyardSpace, CrimeRate, SchoolRating, AgeOfHome, DistanceToCityCenter, EmploymentRate, PropertyTaxRate, RenovationQuality, LocalAmenities, TransportAccess, and PreviousSalePrice. These variables will be the independent variables for our regression model. For SquareFootage, larger properties typically have higher prices. For NumBathrooms, properties with multiple bathrooms are typically more expensive. For NumBedrooms, properties with multiple bedrooms generally command higher prices. For BackyardSpace, houses with larger backyards tend to have higher prices. For CrimeRate, properties in areas with lower crime rates are typically associated with higher property prices. For SchoolRating, properties in areas with good school systems are generally more expensive. For AgeOfHome, newer homes typically have higher prices than older homes because they were built more recently. For DistanceToCityCenter, houses that are located closer to urban centers are more desirable. For EmploymentRate, properties in areas with higher employment rates tend to be more expensive. For PropertyTaxRate, higher property taxes might impact home buyers' decisions, potentially influencing the price. For RenovationQuality, homes that are renovated well generally command higher prices. For LocalAmenities, properties that have many nearby amenities are typically linked to higher property values. For TransportAccess, convenient transport connections can increase a property's appeal. For PreviousSalePrice, it tells historical value trends, helping model price growth or depreciation. I selected these variables as independent variables because they represent physical attributes of a property, the surrounding neighborhood, and accessibility. These factors are likely to influence property prices and are well-suited for analysis using linear regression. \n",
    "</p>"
   ]
  },
  {
   "cell_type": "markdown",
   "id": "723180d9-6e6f-4ead-8a9e-a970401262b3",
   "metadata": {},
   "source": [
    "### D2. Standardize the continuous variables. Include a copy of the cleaned dataset"
   ]
  },
  {
   "cell_type": "code",
   "execution_count": 31,
   "id": "d80642c3-eda0-48fa-b3a5-1fef4b4b9b51",
   "metadata": {},
   "outputs": [
    {
     "data": {
      "text/html": [
       "<div>\n",
       "<style scoped>\n",
       "    .dataframe tbody tr th:only-of-type {\n",
       "        vertical-align: middle;\n",
       "    }\n",
       "\n",
       "    .dataframe tbody tr th {\n",
       "        vertical-align: top;\n",
       "    }\n",
       "\n",
       "    .dataframe thead th {\n",
       "        text-align: right;\n",
       "    }\n",
       "</style>\n",
       "<table border=\"1\" class=\"dataframe\">\n",
       "  <thead>\n",
       "    <tr style=\"text-align: right;\">\n",
       "      <th></th>\n",
       "      <th>Price</th>\n",
       "      <th>SquareFootage</th>\n",
       "      <th>NumBathrooms</th>\n",
       "      <th>NumBedrooms</th>\n",
       "      <th>BackyardSpace</th>\n",
       "      <th>CrimeRate</th>\n",
       "      <th>SchoolRating</th>\n",
       "      <th>AgeOfHome</th>\n",
       "      <th>DistanceToCityCenter</th>\n",
       "      <th>EmploymentRate</th>\n",
       "      <th>PropertyTaxRate</th>\n",
       "      <th>RenovationQuality</th>\n",
       "      <th>LocalAmenities</th>\n",
       "      <th>TransportAccess</th>\n",
       "      <th>PreviousSalePrice</th>\n",
       "    </tr>\n",
       "  </thead>\n",
       "  <tbody>\n",
       "    <tr>\n",
       "      <th>0</th>\n",
       "      <td>255614.8992</td>\n",
       "      <td>-1.132277</td>\n",
       "      <td>-1.187828</td>\n",
       "      <td>0.970213</td>\n",
       "      <td>0.957151</td>\n",
       "      <td>-0.591776</td>\n",
       "      <td>-0.700696</td>\n",
       "      <td>-0.230889</td>\n",
       "      <td>-0.615042</td>\n",
       "      <td>0.794367</td>\n",
       "      <td>0.681094</td>\n",
       "      <td>-0.037232</td>\n",
       "      <td>-0.562349</td>\n",
       "      <td>-0.733870</td>\n",
       "      <td>-0.552700</td>\n",
       "    </tr>\n",
       "    <tr>\n",
       "      <th>1</th>\n",
       "      <td>155586.0947</td>\n",
       "      <td>0.993926</td>\n",
       "      <td>-1.187828</td>\n",
       "      <td>-0.986989</td>\n",
       "      <td>0.516683</td>\n",
       "      <td>-0.865854</td>\n",
       "      <td>-0.695399</td>\n",
       "      <td>-0.197846</td>\n",
       "      <td>-0.797175</td>\n",
       "      <td>-0.109066</td>\n",
       "      <td>-1.104064</td>\n",
       "      <td>-0.468641</td>\n",
       "      <td>-0.140939</td>\n",
       "      <td>0.433066</td>\n",
       "      <td>-1.262469</td>\n",
       "    </tr>\n",
       "    <tr>\n",
       "      <th>2</th>\n",
       "      <td>131050.8324</td>\n",
       "      <td>-1.171293</td>\n",
       "      <td>-0.369602</td>\n",
       "      <td>-0.008388</td>\n",
       "      <td>0.868372</td>\n",
       "      <td>-1.040621</td>\n",
       "      <td>1.195478</td>\n",
       "      <td>0.049814</td>\n",
       "      <td>0.521008</td>\n",
       "      <td>0.641205</td>\n",
       "      <td>0.741268</td>\n",
       "      <td>-0.377284</td>\n",
       "      <td>0.803473</td>\n",
       "      <td>1.277560</td>\n",
       "      <td>-1.271312</td>\n",
       "    </tr>\n",
       "    <tr>\n",
       "      <th>3</th>\n",
       "      <td>151361.7125</td>\n",
       "      <td>-0.251508</td>\n",
       "      <td>-0.100938</td>\n",
       "      <td>-0.986989</td>\n",
       "      <td>-0.256932</td>\n",
       "      <td>-0.499677</td>\n",
       "      <td>0.072604</td>\n",
       "      <td>1.506508</td>\n",
       "      <td>-1.019229</td>\n",
       "      <td>-0.501960</td>\n",
       "      <td>-0.101167</td>\n",
       "      <td>-0.280851</td>\n",
       "      <td>-0.351644</td>\n",
       "      <td>0.146450</td>\n",
       "      <td>-1.076429</td>\n",
       "    </tr>\n",
       "    <tr>\n",
       "      <th>4</th>\n",
       "      <td>113167.6128</td>\n",
       "      <td>-1.171293</td>\n",
       "      <td>-1.119960</td>\n",
       "      <td>-0.008388</td>\n",
       "      <td>-0.566178</td>\n",
       "      <td>-1.273088</td>\n",
       "      <td>-0.536502</td>\n",
       "      <td>-0.943973</td>\n",
       "      <td>2.133599</td>\n",
       "      <td>-1.600730</td>\n",
       "      <td>-0.482268</td>\n",
       "      <td>-0.834070</td>\n",
       "      <td>-0.178565</td>\n",
       "      <td>0.514957</td>\n",
       "      <td>-1.408430</td>\n",
       "    </tr>\n",
       "    <tr>\n",
       "      <th>...</th>\n",
       "      <td>...</td>\n",
       "      <td>...</td>\n",
       "      <td>...</td>\n",
       "      <td>...</td>\n",
       "      <td>...</td>\n",
       "      <td>...</td>\n",
       "      <td>...</td>\n",
       "      <td>...</td>\n",
       "      <td>...</td>\n",
       "      <td>...</td>\n",
       "      <td>...</td>\n",
       "      <td>...</td>\n",
       "      <td>...</td>\n",
       "      <td>...</td>\n",
       "      <td>...</td>\n",
       "    </tr>\n",
       "    <tr>\n",
       "      <th>6995</th>\n",
       "      <td>307821.1758</td>\n",
       "      <td>-1.171293</td>\n",
       "      <td>-0.021391</td>\n",
       "      <td>0.970213</td>\n",
       "      <td>1.360608</td>\n",
       "      <td>-1.072800</td>\n",
       "      <td>0.543999</td>\n",
       "      <td>-0.585857</td>\n",
       "      <td>0.145929</td>\n",
       "      <td>0.710017</td>\n",
       "      <td>-0.221514</td>\n",
       "      <td>-0.123514</td>\n",
       "      <td>-0.799393</td>\n",
       "      <td>0.453539</td>\n",
       "      <td>-0.233564</td>\n",
       "    </tr>\n",
       "    <tr>\n",
       "      <th>6996</th>\n",
       "      <td>421368.8869</td>\n",
       "      <td>1.589681</td>\n",
       "      <td>2.020716</td>\n",
       "      <td>-0.986989</td>\n",
       "      <td>1.542240</td>\n",
       "      <td>0.157224</td>\n",
       "      <td>-0.594764</td>\n",
       "      <td>1.373709</td>\n",
       "      <td>0.010368</td>\n",
       "      <td>-0.324381</td>\n",
       "      <td>0.340108</td>\n",
       "      <td>0.155634</td>\n",
       "      <td>1.469452</td>\n",
       "      <td>2.055517</td>\n",
       "      <td>1.061246</td>\n",
       "    </tr>\n",
       "    <tr>\n",
       "      <th>6997</th>\n",
       "      <td>473382.5348</td>\n",
       "      <td>-0.053025</td>\n",
       "      <td>-0.056924</td>\n",
       "      <td>1.948814</td>\n",
       "      <td>-1.293993</td>\n",
       "      <td>-1.726927</td>\n",
       "      <td>0.988911</td>\n",
       "      <td>-0.472255</td>\n",
       "      <td>-0.489461</td>\n",
       "      <td>0.190598</td>\n",
       "      <td>-0.101167</td>\n",
       "      <td>-0.011855</td>\n",
       "      <td>0.577717</td>\n",
       "      <td>-1.547654</td>\n",
       "      <td>0.517154</td>\n",
       "    </tr>\n",
       "    <tr>\n",
       "      <th>6998</th>\n",
       "      <td>343397.9756</td>\n",
       "      <td>2.744900</td>\n",
       "      <td>-1.187828</td>\n",
       "      <td>0.970213</td>\n",
       "      <td>0.054672</td>\n",
       "      <td>-1.112192</td>\n",
       "      <td>1.195478</td>\n",
       "      <td>-0.994009</td>\n",
       "      <td>-1.124018</td>\n",
       "      <td>1.373718</td>\n",
       "      <td>0.039239</td>\n",
       "      <td>-0.164117</td>\n",
       "      <td>0.649206</td>\n",
       "      <td>0.069678</td>\n",
       "      <td>0.851283</td>\n",
       "    </tr>\n",
       "    <tr>\n",
       "      <th>6999</th>\n",
       "      <td>438060.8193</td>\n",
       "      <td>1.184615</td>\n",
       "      <td>1.949600</td>\n",
       "      <td>0.970213</td>\n",
       "      <td>1.188086</td>\n",
       "      <td>-0.689423</td>\n",
       "      <td>1.619204</td>\n",
       "      <td>-0.652257</td>\n",
       "      <td>0.575897</td>\n",
       "      <td>0.448088</td>\n",
       "      <td>-0.662789</td>\n",
       "      <td>1.926949</td>\n",
       "      <td>0.272947</td>\n",
       "      <td>-0.406309</td>\n",
       "      <td>1.118376</td>\n",
       "    </tr>\n",
       "  </tbody>\n",
       "</table>\n",
       "<p>7000 rows × 15 columns</p>\n",
       "</div>"
      ],
      "text/plain": [
       "            Price  SquareFootage  NumBathrooms  NumBedrooms  BackyardSpace  \\\n",
       "0     255614.8992      -1.132277     -1.187828     0.970213       0.957151   \n",
       "1     155586.0947       0.993926     -1.187828    -0.986989       0.516683   \n",
       "2     131050.8324      -1.171293     -0.369602    -0.008388       0.868372   \n",
       "3     151361.7125      -0.251508     -0.100938    -0.986989      -0.256932   \n",
       "4     113167.6128      -1.171293     -1.119960    -0.008388      -0.566178   \n",
       "...           ...            ...           ...          ...            ...   \n",
       "6995  307821.1758      -1.171293     -0.021391     0.970213       1.360608   \n",
       "6996  421368.8869       1.589681      2.020716    -0.986989       1.542240   \n",
       "6997  473382.5348      -0.053025     -0.056924     1.948814      -1.293993   \n",
       "6998  343397.9756       2.744900     -1.187828     0.970213       0.054672   \n",
       "6999  438060.8193       1.184615      1.949600     0.970213       1.188086   \n",
       "\n",
       "      CrimeRate  SchoolRating  AgeOfHome  DistanceToCityCenter  \\\n",
       "0     -0.591776     -0.700696  -0.230889             -0.615042   \n",
       "1     -0.865854     -0.695399  -0.197846             -0.797175   \n",
       "2     -1.040621      1.195478   0.049814              0.521008   \n",
       "3     -0.499677      0.072604   1.506508             -1.019229   \n",
       "4     -1.273088     -0.536502  -0.943973              2.133599   \n",
       "...         ...           ...        ...                   ...   \n",
       "6995  -1.072800      0.543999  -0.585857              0.145929   \n",
       "6996   0.157224     -0.594764   1.373709              0.010368   \n",
       "6997  -1.726927      0.988911  -0.472255             -0.489461   \n",
       "6998  -1.112192      1.195478  -0.994009             -1.124018   \n",
       "6999  -0.689423      1.619204  -0.652257              0.575897   \n",
       "\n",
       "      EmploymentRate  PropertyTaxRate  RenovationQuality  LocalAmenities  \\\n",
       "0           0.794367         0.681094          -0.037232       -0.562349   \n",
       "1          -0.109066        -1.104064          -0.468641       -0.140939   \n",
       "2           0.641205         0.741268          -0.377284        0.803473   \n",
       "3          -0.501960        -0.101167          -0.280851       -0.351644   \n",
       "4          -1.600730        -0.482268          -0.834070       -0.178565   \n",
       "...              ...              ...                ...             ...   \n",
       "6995        0.710017        -0.221514          -0.123514       -0.799393   \n",
       "6996       -0.324381         0.340108           0.155634        1.469452   \n",
       "6997        0.190598        -0.101167          -0.011855        0.577717   \n",
       "6998        1.373718         0.039239          -0.164117        0.649206   \n",
       "6999        0.448088        -0.662789           1.926949        0.272947   \n",
       "\n",
       "      TransportAccess  PreviousSalePrice  \n",
       "0           -0.733870          -0.552700  \n",
       "1            0.433066          -1.262469  \n",
       "2            1.277560          -1.271312  \n",
       "3            0.146450          -1.076429  \n",
       "4            0.514957          -1.408430  \n",
       "...               ...                ...  \n",
       "6995         0.453539          -0.233564  \n",
       "6996         2.055517           1.061246  \n",
       "6997        -1.547654           0.517154  \n",
       "6998         0.069678           0.851283  \n",
       "6999        -0.406309           1.118376  \n",
       "\n",
       "[7000 rows x 15 columns]"
      ]
     },
     "execution_count": 31,
     "metadata": {},
     "output_type": "execute_result"
    }
   ],
   "source": [
    "from sklearn.preprocessing import StandardScaler\n",
    "\n",
    "target_variable = \"Price\" #storing the dependent variable Price into target_variable\n",
    "\n",
    "#storing the independent variables into independent_variables\n",
    "independent_variables = [\n",
    "    \"SquareFootage\", \"NumBathrooms\", \"NumBedrooms\", \"BackyardSpace\",\n",
    "    \"CrimeRate\", \"SchoolRating\", \"AgeOfHome\", \"DistanceToCityCenter\",\n",
    "    \"EmploymentRate\", \"PropertyTaxRate\", \"RenovationQuality\",\n",
    "    \"LocalAmenities\", \"TransportAccess\", \"PreviousSalePrice\"\n",
    "]\n",
    "\n",
    "features = df[independent_variables] #creating a feature subset containing only the independent variables\n",
    "\n",
    "scaler = StandardScaler() #creating a StandardScaler object\n",
    "standardized_features = scaler.fit_transform(features) #fitting the scaler to the features and transforming them\n",
    "\n",
    "#creating a new dataframe that contains the standardized features with column names\n",
    "standardized_df = pd.DataFrame(standardized_features, columns=independent_variables) \n",
    "\n",
    "#creating the final standardized dataframe including both dependent and independent variables\n",
    "standardized_df_with_dependent = pd.concat([df[target_variable], standardized_df], axis=1) \n",
    "\n",
    "standardized_df_with_dependent"
   ]
  },
  {
   "cell_type": "markdown",
   "id": "f2bde169-cc1c-423a-ad2a-25a239f866ad",
   "metadata": {},
   "source": [
    "<p>In the code, I stored the dependent variable Price into target_variable, and stored the 14 independent variables into independent_variables. I created a feature subset containing only the indepedendent variables and stored them into the features variable. Then, I initialized an instance of StandardScaler from sklearn library, and fit the scaler to the features and transformed the data so each feature has a mean of 0 and a standard deviation of 1. The standardized_df variable is a dataframe that contains the standardized features. The standardized_df_with_dependent variable is a dataframe that contains the standardized features and the dependent variable Price. </p>\n",
    "\n",
    "<p>Looking at the standardized data, all the independent variables have been properly transformed. Their mean is effectively 0, and their standard deviation is approximately 1. All variables in the data are now on the same scale, making them suitable for PCA.  </p>"
   ]
  },
  {
   "cell_type": "markdown",
   "id": "d4234ca8-a471-458e-9a22-f08d5c3032bb",
   "metadata": {},
   "source": [
    "#### Saving the standardized dataframe as a CSV file"
   ]
  },
  {
   "cell_type": "code",
   "execution_count": 5,
   "id": "5f801975-fa40-4333-9417-3c4944d82618",
   "metadata": {},
   "outputs": [],
   "source": [
    "#saving the final standardized dataframe as a csv file\n",
    "standardized_df_with_dependent.to_csv(\"standardized_data.csv\", index=False)"
   ]
  },
  {
   "cell_type": "markdown",
   "id": "4a3275b3-69f7-4710-afdb-892c17ac7612",
   "metadata": {},
   "source": [
    "### D3. Describe the dependent variable and all independent variables using descriptive statistics, including a screenshot for each variable"
   ]
  },
  {
   "cell_type": "markdown",
   "id": "47093156-0a10-48cf-a0c0-91ea15c915c2",
   "metadata": {},
   "source": [
    "#### Dependent Variable: Price"
   ]
  },
  {
   "cell_type": "code",
   "execution_count": 6,
   "id": "520cdc8a-3aaa-40a3-a555-908e625597b0",
   "metadata": {},
   "outputs": [
    {
     "data": {
      "text/plain": [
       "count    7.000000e+03\n",
       "mean     3.072820e+05\n",
       "std      1.501734e+05\n",
       "min      8.500000e+04\n",
       "25%      1.921075e+05\n",
       "50%      2.793230e+05\n",
       "75%      3.918781e+05\n",
       "max      1.046676e+06\n",
       "Name: Price, dtype: float64"
      ]
     },
     "execution_count": 6,
     "metadata": {},
     "output_type": "execute_result"
    }
   ],
   "source": [
    "df['Price'].describe()"
   ]
  },
  {
   "cell_type": "code",
   "execution_count": 7,
   "id": "a3a683cd-b913-479b-9ebe-3beaea6eb710",
   "metadata": {},
   "outputs": [
    {
     "data": {
      "text/plain": [
       "0       8.500000e+04\n",
       "1       8.623883e+04\n",
       "2       8.625022e+04\n",
       "3       8.755343e+04\n",
       "4       8.759270e+04\n",
       "            ...     \n",
       "6995    1.004324e+06\n",
       "6996    1.021383e+06\n",
       "6997    1.024519e+06\n",
       "6998    1.045707e+06\n",
       "6999    1.046676e+06\n",
       "Name: Price, Length: 7000, dtype: float64"
      ]
     },
     "execution_count": 7,
     "metadata": {},
     "output_type": "execute_result"
    }
   ],
   "source": [
    "df['Price'].mode()"
   ]
  },
  {
   "cell_type": "markdown",
   "id": "185aafb4-1984-4e13-ad81-2d4526c1c269",
   "metadata": {},
   "source": [
    "<p>The Price variable has a total count of 7000, mean value of 307282, minimum value of 85000, maximum value of 1046676, and a range value of 961676 (max-min). Price also has many mode values, as indicated by the results from using the mode() function.</p>"
   ]
  },
  {
   "cell_type": "markdown",
   "id": "bc6a61a4-e6da-4f66-ba6d-f2b79739d855",
   "metadata": {},
   "source": [
    "#### Independent Variable: SquareFootage"
   ]
  },
  {
   "cell_type": "code",
   "execution_count": 8,
   "id": "d4db600e-06c2-4d7a-aea0-2b30b7af1f28",
   "metadata": {},
   "outputs": [
    {
     "data": {
      "text/plain": [
       "count    7000.000000\n",
       "mean     1048.947459\n",
       "std       426.010482\n",
       "min       550.000000\n",
       "25%       660.815000\n",
       "50%       996.320000\n",
       "75%      1342.292500\n",
       "max      2874.700000\n",
       "Name: SquareFootage, dtype: float64"
      ]
     },
     "execution_count": 8,
     "metadata": {},
     "output_type": "execute_result"
    }
   ],
   "source": [
    "df['SquareFootage'].describe()"
   ]
  },
  {
   "cell_type": "code",
   "execution_count": 9,
   "id": "fafe1388-42a1-4b01-b8f9-e61a5a77067e",
   "metadata": {},
   "outputs": [
    {
     "data": {
      "text/plain": [
       "0    550.0\n",
       "Name: SquareFootage, dtype: float64"
      ]
     },
     "execution_count": 9,
     "metadata": {},
     "output_type": "execute_result"
    }
   ],
   "source": [
    "df['SquareFootage'].mode()"
   ]
  },
  {
   "cell_type": "markdown",
   "id": "05d0772d-5d45-466e-93c4-5fdbd5216927",
   "metadata": {},
   "source": [
    "<p>The SquareFootage variable has a total count of 7000, mean value of 1048.94, mode value of 550, minimum value of 550, maximum value of 2844.70, and a range value of 2324 (max-min).</p>"
   ]
  },
  {
   "cell_type": "markdown",
   "id": "73731b83-2b69-4d23-a7a5-75d10586bd8a",
   "metadata": {},
   "source": [
    "#### Independent Variable: NumBathrooms"
   ]
  },
  {
   "cell_type": "code",
   "execution_count": 10,
   "id": "24a92555-50ed-4682-a7da-594d62ab0b36",
   "metadata": {},
   "outputs": [
    {
     "data": {
      "text/plain": [
       "count    7000.000000\n",
       "mean        2.131397\n",
       "std         0.952561\n",
       "min         1.000000\n",
       "25%         1.290539\n",
       "50%         1.997774\n",
       "75%         2.763997\n",
       "max         5.807239\n",
       "Name: NumBathrooms, dtype: float64"
      ]
     },
     "execution_count": 10,
     "metadata": {},
     "output_type": "execute_result"
    }
   ],
   "source": [
    "df['NumBathrooms'].describe()"
   ]
  },
  {
   "cell_type": "code",
   "execution_count": 11,
   "id": "c5347501-617e-4875-9045-c5a5f9204c5e",
   "metadata": {},
   "outputs": [
    {
     "data": {
      "text/plain": [
       "0    1.0\n",
       "Name: NumBathrooms, dtype: float64"
      ]
     },
     "execution_count": 11,
     "metadata": {},
     "output_type": "execute_result"
    }
   ],
   "source": [
    "df['NumBathrooms'].mode()"
   ]
  },
  {
   "cell_type": "markdown",
   "id": "679b8d53-57fa-4291-9cbc-aea0173eb9a2",
   "metadata": {},
   "source": [
    "<p>The NumBathrooms variable has a total count of 7000, mean value of 2.1, mode value of 1.0, minimum value of 1, maximum value of 5.8, and a range value of 4.8 (max-min). </p>"
   ]
  },
  {
   "cell_type": "markdown",
   "id": "dca3fbb5-4897-4c9c-8555-f82556cfcc7c",
   "metadata": {},
   "source": [
    "#### Independent Variable: NumBedrooms"
   ]
  },
  {
   "cell_type": "code",
   "execution_count": 12,
   "id": "b39ccc6f-308f-4a24-a883-2f3def5c1bf7",
   "metadata": {},
   "outputs": [
    {
     "data": {
      "text/plain": [
       "count    7000.000000\n",
       "mean        3.008571\n",
       "std         1.021940\n",
       "min         1.000000\n",
       "25%         2.000000\n",
       "50%         3.000000\n",
       "75%         4.000000\n",
       "max         7.000000\n",
       "Name: NumBedrooms, dtype: float64"
      ]
     },
     "execution_count": 12,
     "metadata": {},
     "output_type": "execute_result"
    }
   ],
   "source": [
    "df['NumBedrooms'].describe()"
   ]
  },
  {
   "cell_type": "code",
   "execution_count": 13,
   "id": "e3ad1f5a-fd66-4922-9e22-a30854059023",
   "metadata": {},
   "outputs": [
    {
     "data": {
      "text/plain": [
       "0    3\n",
       "Name: NumBedrooms, dtype: int64"
      ]
     },
     "execution_count": 13,
     "metadata": {},
     "output_type": "execute_result"
    }
   ],
   "source": [
    "df['NumBedrooms'].mode()"
   ]
  },
  {
   "cell_type": "markdown",
   "id": "22f021f2-3d83-4062-bc33-f7a250d7ee99",
   "metadata": {},
   "source": [
    "<p>The NumBedrooms variable has a total count of 7000, mean value of 3.0, mode value of 3, minimum value of 1.0, maximum value of 7, and a range value of 6 (max-min). </p>"
   ]
  },
  {
   "cell_type": "markdown",
   "id": "2d0eba0a-65bf-4a4a-8c6c-d5cccad8e51d",
   "metadata": {},
   "source": [
    "#### Independent Variable: BackyardSpace"
   ]
  },
  {
   "cell_type": "code",
   "execution_count": 14,
   "id": "9f8a8bf7-2d9f-4043-8063-590e7e48445b",
   "metadata": {},
   "outputs": [
    {
     "data": {
      "text/plain": [
       "count    7000.000000\n",
       "mean      511.507029\n",
       "std       279.926549\n",
       "min         0.390000\n",
       "25%       300.995000\n",
       "50%       495.965000\n",
       "75%       704.012500\n",
       "max      1631.360000\n",
       "Name: BackyardSpace, dtype: float64"
      ]
     },
     "execution_count": 14,
     "metadata": {},
     "output_type": "execute_result"
    }
   ],
   "source": [
    "df['BackyardSpace'].describe()"
   ]
  },
  {
   "cell_type": "code",
   "execution_count": 15,
   "id": "8633aed1-fb52-4378-9911-fdced995b287",
   "metadata": {},
   "outputs": [
    {
     "data": {
      "text/plain": [
       "0    300.08\n",
       "1    418.29\n",
       "2    516.29\n",
       "Name: BackyardSpace, dtype: float64"
      ]
     },
     "execution_count": 15,
     "metadata": {},
     "output_type": "execute_result"
    }
   ],
   "source": [
    "df['BackyardSpace'].mode()"
   ]
  },
  {
   "cell_type": "markdown",
   "id": "8894ab7d-055e-44f8-a761-2dede93991d2",
   "metadata": {},
   "source": [
    "<p>The BackyardSpace variable has a total count of 7000, mean value of 511.5, mode values of 300.08, 418.29, and 516.29, minimum value of 0.39, maximum value of 1631, and a range value of 1630.97 (max-min).</p>"
   ]
  },
  {
   "cell_type": "markdown",
   "id": "ea346de1-077f-43cc-a60c-640ae63e640d",
   "metadata": {},
   "source": [
    "#### Independent Variable: CrimeRate"
   ]
  },
  {
   "cell_type": "code",
   "execution_count": 16,
   "id": "e92fc4f7-f410-41a2-b013-9301a6971070",
   "metadata": {},
   "outputs": [
    {
     "data": {
      "text/plain": [
       "count    7000.000000\n",
       "mean       31.226194\n",
       "std        18.025327\n",
       "min         0.030000\n",
       "25%        17.390000\n",
       "50%        30.385000\n",
       "75%        43.670000\n",
       "max        99.730000\n",
       "Name: CrimeRate, dtype: float64"
      ]
     },
     "execution_count": 16,
     "metadata": {},
     "output_type": "execute_result"
    }
   ],
   "source": [
    "df['CrimeRate'].describe()"
   ]
  },
  {
   "cell_type": "code",
   "execution_count": 17,
   "id": "6dbf4000-315c-48e2-852d-b8c7d395a73b",
   "metadata": {},
   "outputs": [
    {
     "data": {
      "text/plain": [
       "0    34.01\n",
       "Name: CrimeRate, dtype: float64"
      ]
     },
     "execution_count": 17,
     "metadata": {},
     "output_type": "execute_result"
    }
   ],
   "source": [
    "df['CrimeRate'].mode()"
   ]
  },
  {
   "cell_type": "markdown",
   "id": "1b6dfead-9aff-4727-a525-a0dff2d53efb",
   "metadata": {},
   "source": [
    "<p>The CrimeRate variable has a total count of 7000, mean value of 31.2, mode value of 34.01, minimum value of 0.03, maximum value of 99.73, and a range value of 99.70 (max-min).</p>"
   ]
  },
  {
   "cell_type": "markdown",
   "id": "9edf8824-7563-4f35-a578-eeeb6801f1ac",
   "metadata": {},
   "source": [
    "#### Independent Variable: SchoolRating"
   ]
  },
  {
   "cell_type": "code",
   "execution_count": 18,
   "id": "54b64a0f-8f92-4ac7-ba06-6b44fb6b129c",
   "metadata": {},
   "outputs": [
    {
     "data": {
      "text/plain": [
       "count    7000.000000\n",
       "mean        6.942923\n",
       "std         1.888148\n",
       "min         0.220000\n",
       "25%         5.650000\n",
       "50%         7.010000\n",
       "75%         8.360000\n",
       "max        10.000000\n",
       "Name: SchoolRating, dtype: float64"
      ]
     },
     "execution_count": 18,
     "metadata": {},
     "output_type": "execute_result"
    }
   ],
   "source": [
    "df['SchoolRating'].describe()"
   ]
  },
  {
   "cell_type": "code",
   "execution_count": 19,
   "id": "4e9f789a-a834-4cd8-a736-b731455bfcda",
   "metadata": {},
   "outputs": [
    {
     "data": {
      "text/plain": [
       "0    10.0\n",
       "Name: SchoolRating, dtype: float64"
      ]
     },
     "execution_count": 19,
     "metadata": {},
     "output_type": "execute_result"
    }
   ],
   "source": [
    "df['SchoolRating'].mode()"
   ]
  },
  {
   "cell_type": "markdown",
   "id": "f900cf4c-b89c-4652-856e-9762ee5a760c",
   "metadata": {},
   "source": [
    "<p>The SchoolRating variable has a total count of 7000, mean value of 6.94, mode value of 10.0, minimum value of 0.22, maximum value of 10, and a range value of 9.78 (max-min).</p>"
   ]
  },
  {
   "cell_type": "markdown",
   "id": "4892ebcb-d9c3-48d9-9b3b-537657b8ef53",
   "metadata": {},
   "source": [
    "#### Independent Variable: AgeOfHome"
   ]
  },
  {
   "cell_type": "code",
   "execution_count": 20,
   "id": "100d5ec8-6879-4adf-b950-035267a6ed59",
   "metadata": {},
   "outputs": [
    {
     "data": {
      "text/plain": [
       "count    7000.000000\n",
       "mean       46.797046\n",
       "std        31.779701\n",
       "min         0.010000\n",
       "25%        20.755000\n",
       "50%        42.620000\n",
       "75%        67.232500\n",
       "max       178.680000\n",
       "Name: AgeOfHome, dtype: float64"
      ]
     },
     "execution_count": 20,
     "metadata": {},
     "output_type": "execute_result"
    }
   ],
   "source": [
    "df['AgeOfHome'].describe()"
   ]
  },
  {
   "cell_type": "code",
   "execution_count": 21,
   "id": "4b408c51-4317-4492-aee2-c61b7b93db49",
   "metadata": {},
   "outputs": [
    {
     "data": {
      "text/plain": [
       "0    18.18\n",
       "1    19.15\n",
       "Name: AgeOfHome, dtype: float64"
      ]
     },
     "execution_count": 21,
     "metadata": {},
     "output_type": "execute_result"
    }
   ],
   "source": [
    "df['AgeOfHome'].mode()"
   ]
  },
  {
   "cell_type": "markdown",
   "id": "16bbb7ec-f7f7-46a3-ae45-90d358b549cf",
   "metadata": {},
   "source": [
    "<p>The AgeOfHome variable has a total count of 7000, mean value of 46.79, mode values of 18.18 and 19.15, minimum value of 0.01, maximum value of 178.68, and a range value of 178.67 (max-min).</p>"
   ]
  },
  {
   "cell_type": "markdown",
   "id": "84276be1-639e-4533-8cd2-856ab8ca0d2b",
   "metadata": {},
   "source": [
    "#### Independent Variable: DistanceToCityCenter"
   ]
  },
  {
   "cell_type": "code",
   "execution_count": 22,
   "id": "1d637dc6-f2e7-4246-ae03-fb7d00596e28",
   "metadata": {},
   "outputs": [
    {
     "data": {
      "text/plain": [
       "count    7000.000000\n",
       "mean       17.475337\n",
       "std        12.024985\n",
       "min         0.000000\n",
       "25%         7.827500\n",
       "50%        15.625000\n",
       "75%        25.222500\n",
       "max        65.200000\n",
       "Name: DistanceToCityCenter, dtype: float64"
      ]
     },
     "execution_count": 22,
     "metadata": {},
     "output_type": "execute_result"
    }
   ],
   "source": [
    "df['DistanceToCityCenter'].describe()"
   ]
  },
  {
   "cell_type": "code",
   "execution_count": 23,
   "id": "5b820624-4b9b-4206-8abf-618be9b75ee3",
   "metadata": {},
   "outputs": [
    {
     "data": {
      "text/plain": [
       "0    8.29\n",
       "Name: DistanceToCityCenter, dtype: float64"
      ]
     },
     "execution_count": 23,
     "metadata": {},
     "output_type": "execute_result"
    }
   ],
   "source": [
    "df['DistanceToCityCenter'].mode()"
   ]
  },
  {
   "cell_type": "markdown",
   "id": "92e8054b-e7f1-4f8a-bb3b-d9288f5aa0b5",
   "metadata": {},
   "source": [
    "<p>The DistanceToCityCenter variable has a total count of 7000, mean value of 17.47, mode value of 8.29, minimum value of 0, maximum value of 65.20, and a range value of 65.20 (max-min).</p>"
   ]
  },
  {
   "cell_type": "markdown",
   "id": "0e7355e0-ac18-4fb2-a4d9-ef36f6c1278b",
   "metadata": {},
   "source": [
    "#### Independent Variable: EmploymentRate"
   ]
  },
  {
   "cell_type": "code",
   "execution_count": 24,
   "id": "5c096f65-62b6-45d3-9d8a-3e158d462b06",
   "metadata": {},
   "outputs": [
    {
     "data": {
      "text/plain": [
       "count    7000.000000\n",
       "mean       93.711349\n",
       "std         4.505359\n",
       "min        72.050000\n",
       "25%        90.620000\n",
       "50%        94.010000\n",
       "75%        97.410000\n",
       "max        99.900000\n",
       "Name: EmploymentRate, dtype: float64"
      ]
     },
     "execution_count": 24,
     "metadata": {},
     "output_type": "execute_result"
    }
   ],
   "source": [
    "df['EmploymentRate'].describe()"
   ]
  },
  {
   "cell_type": "code",
   "execution_count": 25,
   "id": "86060dd8-39e7-40ee-8a12-fd65752c5480",
   "metadata": {},
   "outputs": [
    {
     "data": {
      "text/plain": [
       "0    99.9\n",
       "Name: EmploymentRate, dtype: float64"
      ]
     },
     "execution_count": 25,
     "metadata": {},
     "output_type": "execute_result"
    }
   ],
   "source": [
    "df['EmploymentRate'].mode()"
   ]
  },
  {
   "cell_type": "markdown",
   "id": "fa74028a-6cf7-4bcb-b32e-3992ece11fcc",
   "metadata": {},
   "source": [
    "<p>The EmploymentRate variable has a total count of 7000, mean value of 93.71, mode value of 99.9, minimum value of 72.05, maximum value of 99.90, and a range value of 27.85 (max-min).</p>"
   ]
  },
  {
   "cell_type": "markdown",
   "id": "c87b8212-e6a3-4efa-b53b-2dc21c7d5f56",
   "metadata": {},
   "source": [
    "#### Independent Variable: PropertyTaxRate"
   ]
  },
  {
   "cell_type": "code",
   "execution_count": 26,
   "id": "47794968-0e64-446f-bb66-3fff307248bf",
   "metadata": {},
   "outputs": [
    {
     "data": {
      "text/plain": [
       "count    7000.000000\n",
       "mean        1.500437\n",
       "std         0.498591\n",
       "min         0.010000\n",
       "25%         1.160000\n",
       "50%         1.490000\n",
       "75%         1.840000\n",
       "max         3.360000\n",
       "Name: PropertyTaxRate, dtype: float64"
      ]
     },
     "execution_count": 26,
     "metadata": {},
     "output_type": "execute_result"
    }
   ],
   "source": [
    "df['PropertyTaxRate'].describe()"
   ]
  },
  {
   "cell_type": "code",
   "execution_count": 27,
   "id": "762196be-9c30-4602-9537-db7eb8e6a1e2",
   "metadata": {},
   "outputs": [
    {
     "data": {
      "text/plain": [
       "0    1.43\n",
       "Name: PropertyTaxRate, dtype: float64"
      ]
     },
     "execution_count": 27,
     "metadata": {},
     "output_type": "execute_result"
    }
   ],
   "source": [
    "df['PropertyTaxRate'].mode()"
   ]
  },
  {
   "cell_type": "markdown",
   "id": "139d1aa3-5e99-44f8-8848-2958e4859989",
   "metadata": {},
   "source": [
    "<p>The PropertyTaxRate variable has a total count of 7000, mean value of 1.50, mode value of 1.43, minimum value of 0.01, maximum value of 3.36, and a range value of 3.35 (max-min).</p>"
   ]
  },
  {
   "cell_type": "markdown",
   "id": "5a980841-9b39-421f-9086-e2958a6cd841",
   "metadata": {},
   "source": [
    "#### Independent Variable: RenovationQuality"
   ]
  },
  {
   "cell_type": "code",
   "execution_count": 28,
   "id": "f2cc6854-7a81-4012-baee-62de5d45e299",
   "metadata": {},
   "outputs": [
    {
     "data": {
      "text/plain": [
       "count    7000.000000\n",
       "mean        5.003357\n",
       "std         1.970428\n",
       "min         0.010000\n",
       "25%         3.660000\n",
       "50%         5.020000\n",
       "75%         6.350000\n",
       "max        10.000000\n",
       "Name: RenovationQuality, dtype: float64"
      ]
     },
     "execution_count": 28,
     "metadata": {},
     "output_type": "execute_result"
    }
   ],
   "source": [
    "df['RenovationQuality'].describe()"
   ]
  },
  {
   "cell_type": "code",
   "execution_count": 29,
   "id": "60c7fb8b-a14b-4ecd-8ed6-4ee42038311e",
   "metadata": {},
   "outputs": [
    {
     "data": {
      "text/plain": [
       "0    10.0\n",
       "Name: RenovationQuality, dtype: float64"
      ]
     },
     "execution_count": 29,
     "metadata": {},
     "output_type": "execute_result"
    }
   ],
   "source": [
    "df['RenovationQuality'].mode()"
   ]
  },
  {
   "cell_type": "markdown",
   "id": "2fff056f-678f-4347-8821-b045ae2ecbd2",
   "metadata": {},
   "source": [
    "<p>The RenovationQuality variable has a total count of 7000, mean value of 5.00, mode value of 10.0, minimum value of 0.01, maximum value of 10.0, and a range value of 9.99 (max-min).</p>"
   ]
  },
  {
   "cell_type": "markdown",
   "id": "67016689-7c96-4f2f-9e0c-8af9d94c4690",
   "metadata": {},
   "source": [
    "#### Independent Variable: LocalAmenities"
   ]
  },
  {
   "cell_type": "code",
   "execution_count": 30,
   "id": "9305c062-3aeb-480e-b13a-278dc36d1ad3",
   "metadata": {},
   "outputs": [
    {
     "data": {
      "text/plain": [
       "count    7000.000000\n",
       "mean        5.934579\n",
       "std         2.657930\n",
       "min         0.000000\n",
       "25%         4.000000\n",
       "50%         6.040000\n",
       "75%         8.050000\n",
       "max        10.000000\n",
       "Name: LocalAmenities, dtype: float64"
      ]
     },
     "execution_count": 30,
     "metadata": {},
     "output_type": "execute_result"
    }
   ],
   "source": [
    "df['LocalAmenities'].describe()"
   ]
  },
  {
   "cell_type": "code",
   "execution_count": 31,
   "id": "6fd85bda-63b7-427a-a5da-8a96f5348149",
   "metadata": {},
   "outputs": [
    {
     "data": {
      "text/plain": [
       "0    10.0\n",
       "Name: LocalAmenities, dtype: float64"
      ]
     },
     "execution_count": 31,
     "metadata": {},
     "output_type": "execute_result"
    }
   ],
   "source": [
    "df['LocalAmenities'].mode()"
   ]
  },
  {
   "cell_type": "markdown",
   "id": "d279ace6-afec-4e54-9e97-4b7c232de20c",
   "metadata": {},
   "source": [
    "<p>The LocalAmenities variable has a total count of 7000, mean value of 5.93, mode value of 10.0, minimum value of 0, maximum value of 10, and a range value of 10 (max-min).</p>"
   ]
  },
  {
   "cell_type": "markdown",
   "id": "82f041c9-c247-4111-9db0-af7c63cd6736",
   "metadata": {},
   "source": [
    "#### Independent Variable: TransportAccess"
   ]
  },
  {
   "cell_type": "code",
   "execution_count": 32,
   "id": "deaae6b7-6bd2-4345-a341-e7d286564245",
   "metadata": {},
   "outputs": [
    {
     "data": {
      "text/plain": [
       "count    7000.000000\n",
       "mean        5.983860\n",
       "std         1.953974\n",
       "min         0.010000\n",
       "25%         4.680000\n",
       "50%         6.000000\n",
       "75%         7.350000\n",
       "max        10.000000\n",
       "Name: TransportAccess, dtype: float64"
      ]
     },
     "execution_count": 32,
     "metadata": {},
     "output_type": "execute_result"
    }
   ],
   "source": [
    "df['TransportAccess'].describe()"
   ]
  },
  {
   "cell_type": "code",
   "execution_count": 33,
   "id": "0f44c0a7-e1e9-4908-815c-52fa1d3bd98d",
   "metadata": {},
   "outputs": [
    {
     "data": {
      "text/plain": [
       "0    10.0\n",
       "Name: TransportAccess, dtype: float64"
      ]
     },
     "execution_count": 33,
     "metadata": {},
     "output_type": "execute_result"
    }
   ],
   "source": [
    "df['TransportAccess'].mode()"
   ]
  },
  {
   "cell_type": "markdown",
   "id": "fd0f86ac-8eef-4655-aacd-fe80221a47c3",
   "metadata": {},
   "source": [
    "<p>The TransportAccess variable has a total count of 7000, mean value of 5.98, mode value of 10.0, minimum value of 0.01, maximum value of 10, and a range value of 9.99 (max-min).</p>"
   ]
  },
  {
   "cell_type": "markdown",
   "id": "060505f1-de42-4ea3-8d2e-57d4662cee1b",
   "metadata": {},
   "source": [
    "#### Independent Variable: PreviousSalePrice"
   ]
  },
  {
   "cell_type": "code",
   "execution_count": 34,
   "id": "f42c27a4-8828-418d-9948-d8c67193f5ac",
   "metadata": {},
   "outputs": [
    {
     "data": {
      "text/plain": [
       "count    7.000000e+03\n",
       "mean     2.845094e+05\n",
       "std      1.857340e+05\n",
       "min     -8.356902e+03\n",
       "25%      1.420140e+05\n",
       "50%      2.621831e+05\n",
       "75%      3.961212e+05\n",
       "max      1.296607e+06\n",
       "Name: PreviousSalePrice, dtype: float64"
      ]
     },
     "execution_count": 34,
     "metadata": {},
     "output_type": "execute_result"
    }
   ],
   "source": [
    "df['PreviousSalePrice'].describe()"
   ]
  },
  {
   "cell_type": "code",
   "execution_count": 35,
   "id": "c888acd4-165d-4f8c-8f05-8450d448eacf",
   "metadata": {},
   "outputs": [
    {
     "data": {
      "text/plain": [
       "0      -8.356902e+03\n",
       "1      -8.239721e+03\n",
       "2      -7.039291e+03\n",
       "3      -6.084476e+03\n",
       "4      -6.004653e+03\n",
       "            ...     \n",
       "6995    1.099355e+06\n",
       "6996    1.142999e+06\n",
       "6997    1.226586e+06\n",
       "6998    1.251495e+06\n",
       "6999    1.296607e+06\n",
       "Name: PreviousSalePrice, Length: 7000, dtype: float64"
      ]
     },
     "execution_count": 35,
     "metadata": {},
     "output_type": "execute_result"
    }
   ],
   "source": [
    "df['PreviousSalePrice'].mode()"
   ]
  },
  {
   "cell_type": "markdown",
   "id": "02431221-cc3e-4697-953a-ed6a549baea5",
   "metadata": {},
   "source": [
    "<p>The PreviousSalePrice variable has a total count of 7000, mean value of 284509.40, minimum value of -8356.90, maximum value of 1296607, and a range value of 1304963.90 (max-min). PreviousSalePrice has also many mode values, as indicated by the results from using the mode() function.</p>"
   ]
  },
  {
   "cell_type": "markdown",
   "id": "dcf36de2-43e7-4659-b7e8-bc3b4284e739",
   "metadata": {},
   "source": [
    "### E1. Determine the matrix of all principal components (REVISION FIXED)"
   ]
  },
  {
   "cell_type": "code",
   "execution_count": 32,
   "id": "4626a4a3-7c2a-489b-a3ee-3cfad15faaf8",
   "metadata": {},
   "outputs": [
    {
     "data": {
      "text/html": [
       "<div>\n",
       "<style scoped>\n",
       "    .dataframe tbody tr th:only-of-type {\n",
       "        vertical-align: middle;\n",
       "    }\n",
       "\n",
       "    .dataframe tbody tr th {\n",
       "        vertical-align: top;\n",
       "    }\n",
       "\n",
       "    .dataframe thead th {\n",
       "        text-align: right;\n",
       "    }\n",
       "</style>\n",
       "<table border=\"1\" class=\"dataframe\">\n",
       "  <thead>\n",
       "    <tr style=\"text-align: right;\">\n",
       "      <th></th>\n",
       "      <th>PC1</th>\n",
       "      <th>PC2</th>\n",
       "      <th>PC3</th>\n",
       "      <th>PC4</th>\n",
       "      <th>PC5</th>\n",
       "      <th>PC6</th>\n",
       "      <th>PC7</th>\n",
       "      <th>PC8</th>\n",
       "      <th>PC9</th>\n",
       "      <th>PC10</th>\n",
       "      <th>PC11</th>\n",
       "      <th>PC12</th>\n",
       "      <th>PC13</th>\n",
       "      <th>PC14</th>\n",
       "    </tr>\n",
       "  </thead>\n",
       "  <tbody>\n",
       "    <tr>\n",
       "      <th>SquareFootage</th>\n",
       "      <td>0.324961</td>\n",
       "      <td>-0.157607</td>\n",
       "      <td>0.246368</td>\n",
       "      <td>-0.071753</td>\n",
       "      <td>0.195092</td>\n",
       "      <td>-0.126046</td>\n",
       "      <td>-0.230994</td>\n",
       "      <td>0.163614</td>\n",
       "      <td>-0.558966</td>\n",
       "      <td>0.337897</td>\n",
       "      <td>-0.152119</td>\n",
       "      <td>0.028075</td>\n",
       "      <td>-0.192828</td>\n",
       "      <td>-0.426510</td>\n",
       "    </tr>\n",
       "    <tr>\n",
       "      <th>NumBathrooms</th>\n",
       "      <td>0.281964</td>\n",
       "      <td>-0.175180</td>\n",
       "      <td>0.234908</td>\n",
       "      <td>-0.100779</td>\n",
       "      <td>0.207132</td>\n",
       "      <td>-0.063891</td>\n",
       "      <td>-0.137146</td>\n",
       "      <td>0.188811</td>\n",
       "      <td>0.741934</td>\n",
       "      <td>-0.186541</td>\n",
       "      <td>-0.110895</td>\n",
       "      <td>-0.008527</td>\n",
       "      <td>-0.148977</td>\n",
       "      <td>-0.321243</td>\n",
       "    </tr>\n",
       "    <tr>\n",
       "      <th>NumBedrooms</th>\n",
       "      <td>0.290224</td>\n",
       "      <td>-0.109988</td>\n",
       "      <td>-0.008796</td>\n",
       "      <td>0.322330</td>\n",
       "      <td>-0.374387</td>\n",
       "      <td>0.318358</td>\n",
       "      <td>0.336619</td>\n",
       "      <td>-0.425090</td>\n",
       "      <td>-0.010076</td>\n",
       "      <td>-0.089710</td>\n",
       "      <td>-0.308865</td>\n",
       "      <td>-0.006914</td>\n",
       "      <td>0.080099</td>\n",
       "      <td>-0.392628</td>\n",
       "    </tr>\n",
       "    <tr>\n",
       "      <th>BackyardSpace</th>\n",
       "      <td>0.094886</td>\n",
       "      <td>0.028672</td>\n",
       "      <td>-0.095680</td>\n",
       "      <td>-0.284129</td>\n",
       "      <td>0.710403</td>\n",
       "      <td>0.480563</td>\n",
       "      <td>0.277428</td>\n",
       "      <td>-0.275785</td>\n",
       "      <td>-0.065112</td>\n",
       "      <td>-0.033898</td>\n",
       "      <td>0.063315</td>\n",
       "      <td>-0.004299</td>\n",
       "      <td>-0.034522</td>\n",
       "      <td>0.032334</td>\n",
       "    </tr>\n",
       "    <tr>\n",
       "      <th>CrimeRate</th>\n",
       "      <td>-0.112615</td>\n",
       "      <td>-0.033720</td>\n",
       "      <td>0.595225</td>\n",
       "      <td>0.032437</td>\n",
       "      <td>0.001719</td>\n",
       "      <td>-0.155315</td>\n",
       "      <td>0.641760</td>\n",
       "      <td>0.225003</td>\n",
       "      <td>-0.155874</td>\n",
       "      <td>-0.274619</td>\n",
       "      <td>0.180765</td>\n",
       "      <td>0.005325</td>\n",
       "      <td>-0.106586</td>\n",
       "      <td>0.021238</td>\n",
       "    </tr>\n",
       "    <tr>\n",
       "      <th>SchoolRating</th>\n",
       "      <td>0.382476</td>\n",
       "      <td>-0.092071</td>\n",
       "      <td>-0.230761</td>\n",
       "      <td>0.206832</td>\n",
       "      <td>-0.120180</td>\n",
       "      <td>-0.004307</td>\n",
       "      <td>0.029698</td>\n",
       "      <td>-0.078287</td>\n",
       "      <td>0.013662</td>\n",
       "      <td>0.015227</td>\n",
       "      <td>0.608996</td>\n",
       "      <td>0.019597</td>\n",
       "      <td>-0.587988</td>\n",
       "      <td>0.101605</td>\n",
       "    </tr>\n",
       "    <tr>\n",
       "      <th>AgeOfHome</th>\n",
       "      <td>-0.143319</td>\n",
       "      <td>-0.078944</td>\n",
       "      <td>0.154037</td>\n",
       "      <td>0.507138</td>\n",
       "      <td>0.352094</td>\n",
       "      <td>-0.218133</td>\n",
       "      <td>-0.363588</td>\n",
       "      <td>-0.374795</td>\n",
       "      <td>-0.145658</td>\n",
       "      <td>-0.475966</td>\n",
       "      <td>0.013205</td>\n",
       "      <td>0.001988</td>\n",
       "      <td>-0.001605</td>\n",
       "      <td>0.012256</td>\n",
       "    </tr>\n",
       "    <tr>\n",
       "      <th>DistanceToCityCenter</th>\n",
       "      <td>-0.200229</td>\n",
       "      <td>0.023641</td>\n",
       "      <td>0.063212</td>\n",
       "      <td>0.443105</td>\n",
       "      <td>0.266140</td>\n",
       "      <td>-0.222287</td>\n",
       "      <td>0.247956</td>\n",
       "      <td>-0.149948</td>\n",
       "      <td>0.277410</td>\n",
       "      <td>0.690908</td>\n",
       "      <td>-0.014095</td>\n",
       "      <td>-0.001960</td>\n",
       "      <td>-0.014922</td>\n",
       "      <td>-0.008263</td>\n",
       "    </tr>\n",
       "    <tr>\n",
       "      <th>EmploymentRate</th>\n",
       "      <td>0.129430</td>\n",
       "      <td>0.017491</td>\n",
       "      <td>-0.582757</td>\n",
       "      <td>0.250128</td>\n",
       "      <td>0.233858</td>\n",
       "      <td>-0.254826</td>\n",
       "      <td>0.304771</td>\n",
       "      <td>0.432438</td>\n",
       "      <td>-0.093491</td>\n",
       "      <td>-0.228568</td>\n",
       "      <td>-0.342088</td>\n",
       "      <td>0.005427</td>\n",
       "      <td>-0.054761</td>\n",
       "      <td>-0.014878</td>\n",
       "    </tr>\n",
       "    <tr>\n",
       "      <th>PropertyTaxRate</th>\n",
       "      <td>-0.143436</td>\n",
       "      <td>0.039176</td>\n",
       "      <td>0.144715</td>\n",
       "      <td>0.456297</td>\n",
       "      <td>0.023401</td>\n",
       "      <td>0.675479</td>\n",
       "      <td>-0.189140</td>\n",
       "      <td>0.494286</td>\n",
       "      <td>-0.008576</td>\n",
       "      <td>0.037041</td>\n",
       "      <td>-0.008766</td>\n",
       "      <td>0.001424</td>\n",
       "      <td>-0.077826</td>\n",
       "      <td>0.065187</td>\n",
       "    </tr>\n",
       "    <tr>\n",
       "      <th>RenovationQuality</th>\n",
       "      <td>0.413570</td>\n",
       "      <td>-0.053468</td>\n",
       "      <td>-0.002008</td>\n",
       "      <td>0.162036</td>\n",
       "      <td>0.097062</td>\n",
       "      <td>-0.041405</td>\n",
       "      <td>0.007195</td>\n",
       "      <td>0.159104</td>\n",
       "      <td>-0.011481</td>\n",
       "      <td>0.028457</td>\n",
       "      <td>0.445909</td>\n",
       "      <td>-0.036119</td>\n",
       "      <td>0.748657</td>\n",
       "      <td>-0.042085</td>\n",
       "    </tr>\n",
       "    <tr>\n",
       "      <th>LocalAmenities</th>\n",
       "      <td>0.197165</td>\n",
       "      <td>0.664282</td>\n",
       "      <td>0.105889</td>\n",
       "      <td>0.043066</td>\n",
       "      <td>0.010795</td>\n",
       "      <td>-0.046308</td>\n",
       "      <td>-0.035650</td>\n",
       "      <td>-0.023282</td>\n",
       "      <td>0.000899</td>\n",
       "      <td>-0.019435</td>\n",
       "      <td>-0.044654</td>\n",
       "      <td>-0.702710</td>\n",
       "      <td>-0.077106</td>\n",
       "      <td>-0.024374</td>\n",
       "    </tr>\n",
       "    <tr>\n",
       "      <th>TransportAccess</th>\n",
       "      <td>0.200527</td>\n",
       "      <td>0.660893</td>\n",
       "      <td>0.103430</td>\n",
       "      <td>0.045040</td>\n",
       "      <td>0.012267</td>\n",
       "      <td>-0.035888</td>\n",
       "      <td>-0.028404</td>\n",
       "      <td>-0.028268</td>\n",
       "      <td>0.033552</td>\n",
       "      <td>-0.027781</td>\n",
       "      <td>-0.035779</td>\n",
       "      <td>0.709586</td>\n",
       "      <td>-0.014269</td>\n",
       "      <td>-0.018572</td>\n",
       "    </tr>\n",
       "    <tr>\n",
       "      <th>PreviousSalePrice</th>\n",
       "      <td>0.463260</td>\n",
       "      <td>-0.179993</td>\n",
       "      <td>0.239081</td>\n",
       "      <td>0.042383</td>\n",
       "      <td>-0.004931</td>\n",
       "      <td>-0.015784</td>\n",
       "      <td>-0.018692</td>\n",
       "      <td>-0.055990</td>\n",
       "      <td>0.004642</td>\n",
       "      <td>0.081923</td>\n",
       "      <td>-0.376856</td>\n",
       "      <td>-0.001315</td>\n",
       "      <td>-0.002733</td>\n",
       "      <td>0.735877</td>\n",
       "    </tr>\n",
       "  </tbody>\n",
       "</table>\n",
       "</div>"
      ],
      "text/plain": [
       "                           PC1       PC2       PC3       PC4       PC5  \\\n",
       "SquareFootage         0.324961 -0.157607  0.246368 -0.071753  0.195092   \n",
       "NumBathrooms          0.281964 -0.175180  0.234908 -0.100779  0.207132   \n",
       "NumBedrooms           0.290224 -0.109988 -0.008796  0.322330 -0.374387   \n",
       "BackyardSpace         0.094886  0.028672 -0.095680 -0.284129  0.710403   \n",
       "CrimeRate            -0.112615 -0.033720  0.595225  0.032437  0.001719   \n",
       "SchoolRating          0.382476 -0.092071 -0.230761  0.206832 -0.120180   \n",
       "AgeOfHome            -0.143319 -0.078944  0.154037  0.507138  0.352094   \n",
       "DistanceToCityCenter -0.200229  0.023641  0.063212  0.443105  0.266140   \n",
       "EmploymentRate        0.129430  0.017491 -0.582757  0.250128  0.233858   \n",
       "PropertyTaxRate      -0.143436  0.039176  0.144715  0.456297  0.023401   \n",
       "RenovationQuality     0.413570 -0.053468 -0.002008  0.162036  0.097062   \n",
       "LocalAmenities        0.197165  0.664282  0.105889  0.043066  0.010795   \n",
       "TransportAccess       0.200527  0.660893  0.103430  0.045040  0.012267   \n",
       "PreviousSalePrice     0.463260 -0.179993  0.239081  0.042383 -0.004931   \n",
       "\n",
       "                           PC6       PC7       PC8       PC9      PC10  \\\n",
       "SquareFootage        -0.126046 -0.230994  0.163614 -0.558966  0.337897   \n",
       "NumBathrooms         -0.063891 -0.137146  0.188811  0.741934 -0.186541   \n",
       "NumBedrooms           0.318358  0.336619 -0.425090 -0.010076 -0.089710   \n",
       "BackyardSpace         0.480563  0.277428 -0.275785 -0.065112 -0.033898   \n",
       "CrimeRate            -0.155315  0.641760  0.225003 -0.155874 -0.274619   \n",
       "SchoolRating         -0.004307  0.029698 -0.078287  0.013662  0.015227   \n",
       "AgeOfHome            -0.218133 -0.363588 -0.374795 -0.145658 -0.475966   \n",
       "DistanceToCityCenter -0.222287  0.247956 -0.149948  0.277410  0.690908   \n",
       "EmploymentRate       -0.254826  0.304771  0.432438 -0.093491 -0.228568   \n",
       "PropertyTaxRate       0.675479 -0.189140  0.494286 -0.008576  0.037041   \n",
       "RenovationQuality    -0.041405  0.007195  0.159104 -0.011481  0.028457   \n",
       "LocalAmenities       -0.046308 -0.035650 -0.023282  0.000899 -0.019435   \n",
       "TransportAccess      -0.035888 -0.028404 -0.028268  0.033552 -0.027781   \n",
       "PreviousSalePrice    -0.015784 -0.018692 -0.055990  0.004642  0.081923   \n",
       "\n",
       "                          PC11      PC12      PC13      PC14  \n",
       "SquareFootage        -0.152119  0.028075 -0.192828 -0.426510  \n",
       "NumBathrooms         -0.110895 -0.008527 -0.148977 -0.321243  \n",
       "NumBedrooms          -0.308865 -0.006914  0.080099 -0.392628  \n",
       "BackyardSpace         0.063315 -0.004299 -0.034522  0.032334  \n",
       "CrimeRate             0.180765  0.005325 -0.106586  0.021238  \n",
       "SchoolRating          0.608996  0.019597 -0.587988  0.101605  \n",
       "AgeOfHome             0.013205  0.001988 -0.001605  0.012256  \n",
       "DistanceToCityCenter -0.014095 -0.001960 -0.014922 -0.008263  \n",
       "EmploymentRate       -0.342088  0.005427 -0.054761 -0.014878  \n",
       "PropertyTaxRate      -0.008766  0.001424 -0.077826  0.065187  \n",
       "RenovationQuality     0.445909 -0.036119  0.748657 -0.042085  \n",
       "LocalAmenities       -0.044654 -0.702710 -0.077106 -0.024374  \n",
       "TransportAccess      -0.035779  0.709586 -0.014269 -0.018572  \n",
       "PreviousSalePrice    -0.376856 -0.001315 -0.002733  0.735877  "
      ]
     },
     "execution_count": 32,
     "metadata": {},
     "output_type": "execute_result"
    }
   ],
   "source": [
    "from sklearn.decomposition import PCA\n",
    "import numpy as np\n",
    "\n",
    "#creating a PCA object\n",
    "pca = PCA()\n",
    "\n",
    "#fitting the PCA object on the standardized data, and transforming the data to principal components\n",
    "pca_transformed = pca.fit_transform(standardized_features)\n",
    "\n",
    "#computing the loading matrix\n",
    "loadings = pd.DataFrame(\n",
    "    pca.components_.T, #components_ contains the loading of the independent variables for each principal component\n",
    "    columns=[f\"PC{i+1}\" for i in range(pca.n_components_)],\n",
    "    index=independent_variables\n",
    ")\n",
    "\n",
    "loadings"
   ]
  },
  {
   "cell_type": "markdown",
   "id": "44b17273-48ba-4bab-b5d3-beda0bf95f17",
   "metadata": {},
   "source": [
    "<p>In the code, I created a PCA object, and used that object to fit on the standardized data and transform the data into principal components. Then, I created a dataframe that contains the loadings of the 14 independent variables for each principal component. </p>\n",
    "\n",
    "<p>In the loadings matrix, each column represents one principal component. There are 14 principal components in the matrix, which equals the number of the original independent variables. Each cell in the matrix indicates how much each independent variable influences each principal component. In PC1, independent variables such as SquareFootage, SchoolRating, RenovationQuality, and PreviousSalePrice have the highest positive contributions, indicating they heavily influence PC1. Since PC1 captures the most variance in the dataset, organizations should take note of the aforementioned variables for investment or improvement regarding properties.</p>"
   ]
  },
  {
   "cell_type": "markdown",
   "id": "acbb56c8-6646-4faa-9bc6-ee26757ddf54",
   "metadata": {},
   "source": [
    "### E2. Identify the total number of principal components that should be retained using the elbow rule. Include a screenshot of the scree plot"
   ]
  },
  {
   "cell_type": "code",
   "execution_count": 33,
   "id": "5cfb3e83-70eb-4c71-a67d-88c75ba72b1f",
   "metadata": {},
   "outputs": [
    {
     "data": {
      "image/png": "[encoded data removed]",
      "text/plain": [
       "<Figure size 800x600 with 1 Axes>"
      ]
     },
     "metadata": {},
     "output_type": "display_data"
    }
   ],
   "source": [
    "#extracting the explained variance ratio from the PCA object to identify how much variance each component explains\n",
    "explained_variance_ratio = pca.explained_variance_ratio_\n",
    "\n",
    "#creating a Scree Plot\n",
    "plt.figure(figsize=(8, 6))\n",
    "plt.plot(range(1, len(explained_variance_ratio) + 1), explained_variance_ratio, marker='o', linestyle='--')\n",
    "plt.title('Scree Plot')\n",
    "plt.xlabel('Principal Component')\n",
    "plt.ylabel('Variance Explained')\n",
    "plt.xticks(range(1, len(explained_variance_ratio) + 1))\n",
    "plt.grid()\n",
    "plt.show()"
   ]
  },
  {
   "cell_type": "markdown",
   "id": "1a913f99-599f-44c2-8f51-78c3fd11ff6c",
   "metadata": {},
   "source": [
    "<p>In this code, I extracted the explained variance ratio from the PCA object to determine how much variance each principal component explains. Then, I created a scree plot to visualize the explained variance for each principal component so we can use the elbow rule. The elbow rule is a method used to identify the number of principal components to keep without being overly complex.</p>\n",
    "\n",
    "<p>In the scree plot, the most noticeable elbow occurs at Principle Component 2 (PC2), however since we aim to retain at least 80% of the total variance for our regression model, we will not be using PC2. A less distinct elbow appears at PC10, where there is a slight change in the slope, and the explained variance begins to flatten further. Selecting PC10 would be ideal for our regression model because PC10 retains approximately 87% of the total variance and provides a balance between reducing dimensionality and retaining most of the critical information in the housing dataset, ensuring that significant patterns are captured while minimizing complexity. Therefore, the first 10 principal components will be retained. </p>"
   ]
  },
  {
   "cell_type": "markdown",
   "id": "c2e1eead-0df0-4b18-8dcd-f089a4a8a035",
   "metadata": {},
   "source": [
    "### E3. Identify the variance of each of the principal components identified in part E2"
   ]
  },
  {
   "cell_type": "code",
   "execution_count": 34,
   "id": "947adec3-5dbf-49b1-a098-18a7a4420b1a",
   "metadata": {},
   "outputs": [
    {
     "name": "stdout",
     "output_type": "stream",
     "text": [
      "PC1: Variance Explained = 0.2310\n",
      "PC2: Variance Explained = 0.0969\n",
      "PC3: Variance Explained = 0.0809\n",
      "PC4: Variance Explained = 0.0761\n",
      "PC5: Variance Explained = 0.0722\n",
      "PC6: Variance Explained = 0.0668\n",
      "PC7: Variance Explained = 0.0656\n",
      "PC8: Variance Explained = 0.0645\n",
      "PC9: Variance Explained = 0.0604\n",
      "PC10: Variance Explained = 0.0592\n"
     ]
    }
   ],
   "source": [
    "#printing the variance for the first 10 PCAs\n",
    "for i in range(10):  # since we selected the first 10 components, the loop iterates 10 times\n",
    "    print(f\"PC{i+1}: Variance Explained = {explained_variance_ratio[i]:.4f}\")"
   ]
  },
  {
   "cell_type": "markdown",
   "id": "9636993d-864a-4001-8ba7-2ccc55222cde",
   "metadata": {},
   "source": [
    "<p>In this code, I created a loop that iterates over the first 10 principal components, outputting each component's individual variance explained. I formatted the output values to 4 decimal places. </p>\n",
    "\n",
    "<p>PC1 explains the highest variance at 23.10%. PC2 explains 9.69% of variance. PC3 explains 8.09% of variance, PC4 explains 7.61% of variance. PC5 explains 7.22% of variance. PC6 explains 6.68% of variance. PC7 explains 6.56% of variance. PC8 explains 6.45% of variance. PC9 explains 6.04% of variance. PC10 explains 5.92% of variance. Overall, the first 10 principal components explain 87.37% of total variance, exceeding our minimum threshold of 80% for regression modeling.</p>"
   ]
  },
  {
   "cell_type": "markdown",
   "id": "41301e99-15a9-4a92-97ea-835bb5faa7c1",
   "metadata": {},
   "source": [
    "### E4. Summarize the results of your PCA (REVISION FIXED)"
   ]
  },
  {
   "cell_type": "markdown",
   "id": "a035e18b-0fcf-4aa2-bc59-939979ab8a4b",
   "metadata": {},
   "source": [
    "<p>In part E1, we created a loading matrix of the 14 independent variables for each principal component. In PC1, independent variables such as SquareFootage, SchoolRating, RenovationQuality, and PreviousSalePrice have the highest positive contributions, indicating they heavily influence PC1. Since PC1 captures the most variance in the dataset, organizations should take note of the aforementioned variables for investment or improvement regarding properties. In part E2, we created a scree plot. By using the elbow rule in the scree plot, we identified the total number of principal components to retain, which is 10. We selected the first 10 principal components, with PC1 accounting for nearly a quarter of the total variance, while the remaining components contribute progressively less. Together, these 10 components explain 87% of total variance, which is ideal for regression modeling because it means that the most important patterns in the housing dataset are captured, enabling the regression model to effectively make predictions with the dataset. The selected components also reduced the dimensions of the housing dataset from 14 variables to 10 principal components while preserving most of the information. This simplifies the dataset because only the important information are retained while the irrelevant features are removed, making it less likely for the regression model to overfit to noise in the dataset. Additionally, the reduced dataset makes it easier to understand the key patterns that significantly impact housing prices, without being overwhelmed by all 14 original variables. We will be using the reduced housing dataset that includes the 10 principal components throughout the regression analysis. </p>"
   ]
  },
  {
   "cell_type": "markdown",
   "id": "1bc79bf6-bf92-4d5f-8754-18c51e980bc5",
   "metadata": {},
   "source": [
    "### F1. Split the data into two datasets, with a larger percentage assigned to the training dataset and a smaller percentage assigned to the test dataset. Provide the files"
   ]
  },
  {
   "cell_type": "code",
   "execution_count": 35,
   "id": "5cb26f07-122e-43bc-aa09-d076e4380598",
   "metadata": {},
   "outputs": [],
   "source": [
    "from sklearn.model_selection import train_test_split\n",
    "\n",
    "#creating a PCA object that retains 10 principal components\n",
    "pca = PCA(n_components=10)\n",
    "\n",
    "#fitting the PCA object on the standardized data, and transforming the 14 independent variables into principal components\n",
    "X = pca.fit_transform(standardized_features)\n",
    "\n",
    "y = df['Price'] #assigning dependent variable Price to y\n",
    "\n",
    "#splitting the data into training and test sets. Training set gets 80% of data, while test set gets 20% of data\n",
    "X_train, X_test, y_train, y_test = train_test_split(X, y, test_size=0.2, random_state=21) \n",
    "\n",
    "#providing the training and test files\n",
    "\n",
    "#converting numpy arrays to dataframes for concatenation\n",
    "X_train_df = pd.DataFrame(X_train, columns=[f\"PC{i+1}\" for i in range(X_train.shape[1])])\n",
    "X_test_df = pd.DataFrame(X_test, columns=[f\"PC{i+1}\" for i in range(X_test.shape[1])])\n",
    "\n",
    "# Resetting the indices of y_train and y_test to align with X_train_df and X_test_df\n",
    "y_train = y_train.reset_index(drop=True)\n",
    "y_test = y_test.reset_index(drop=True)\n",
    "\n",
    "#generating dataframes for training and test sets\n",
    "train_data = pd.concat([X_train_df, y_train], axis=1)\n",
    "test_data = pd.concat([X_test_df, y_test], axis=1)\n",
    "\n",
    "#saving the dataframes as CSV files\n",
    "train_data.to_csv(\"train_data.csv\", index=False)\n",
    "test_data.to_csv(\"test_data.csv\", index=False)"
   ]
  },
  {
   "cell_type": "markdown",
   "id": "6dcb99d0-f06a-44a9-bfbe-63356b2b44bd",
   "metadata": {},
   "source": [
    "<p>In this code, I used the PCA() function to create a PCA object that is configured to retain 10 principal components. Then, I fit the PCA model to the standardized features and transformed the 14 independent variables into principal components. The 10 principal components are stored in the X variable, while the dependent variable Price is stored in the y variable. I used the train_test_split() function from sklearn library to split the housing dataset into training and test sets. The training set receives 80% of the data, while the test set receives 20% of the data. Next, I converted the two numpy arrays X_train and X_test into pandas dataframes with each column labeled as PC1 through PC10 for better interpretability. I reset the indices of y_train and y_test using the reset_index() function to ensure alignment with X_train_df and X_test_df. Then, I merged X_train_df with y_train to create a single dataframe for the training set, and merged X_test_df with y_test to create a single dataframe for the test set. I saved both training and test dataframes as CSV files for submission.</p>"
   ]
  },
  {
   "cell_type": "markdown",
   "id": "cfc2bd86-8628-46da-a089-e24d74988752",
   "metadata": {},
   "source": [
    "### F2. Use the training dataset to create and perform a regression model. Optimize the regression model and provide a screenshot of the summary of the optimized model or the model parameters"
   ]
  },
  {
   "cell_type": "markdown",
   "id": "ae816a28-9dbd-49c5-b82d-bbd96b13aad3",
   "metadata": {},
   "source": [
    "### Optimizing the OLS regression model using backward stepwise elimination method"
   ]
  },
  {
   "cell_type": "code",
   "execution_count": 36,
   "id": "7837f3d3-8a15-4e0e-b8e9-4da41b3ae7d9",
   "metadata": {},
   "outputs": [
    {
     "name": "stdout",
     "output_type": "stream",
     "text": [
      "Removed variable: PC9 with p-value 0.9986417468478026\n",
      "Removed variable: PC5 with p-value 0.34170917778335463\n",
      "Removed variable: PC6 with p-value 0.10397064476892587\n",
      "                            OLS Regression Results                            \n",
      "==============================================================================\n",
      "Dep. Variable:                  Price   R-squared:                       0.638\n",
      "Model:                            OLS   Adj. R-squared:                  0.637\n",
      "Method:                 Least Squares   F-statistic:                     1407.\n",
      "Date:                Fri, 29 Nov 2024   Prob (F-statistic):               0.00\n",
      "Time:                        07:50:25   Log-Likelihood:                -71870.\n",
      "No. Observations:                5600   AIC:                         1.438e+05\n",
      "Df Residuals:                    5592   BIC:                         1.438e+05\n",
      "Df Model:                           7                                         \n",
      "Covariance Type:            nonrobust                                         \n",
      "==============================================================================\n",
      "                 coef    std err          t      P>|t|      [0.025      0.975]\n",
      "------------------------------------------------------------------------------\n",
      "const       3.067e+05   1212.585    252.903      0.000    3.04e+05    3.09e+05\n",
      "PC1         6.189e+04    671.595     92.149      0.000    6.06e+04    6.32e+04\n",
      "PC2        -2.413e+04   1043.658    -23.117      0.000   -2.62e+04   -2.21e+04\n",
      "PC3         3.042e+04   1137.003     26.752      0.000    2.82e+04    3.26e+04\n",
      "PC4         4530.8356   1175.317      3.855      0.000    2226.759    6834.913\n",
      "PC7        -3077.0524   1270.620     -2.422      0.015   -5567.961    -586.144\n",
      "PC8        -3915.4794   1279.152     -3.061      0.002   -6423.113   -1407.846\n",
      "PC10        9282.0719   1319.144      7.036      0.000    6696.038    1.19e+04\n",
      "==============================================================================\n",
      "Omnibus:                      321.653   Durbin-Watson:                   2.031\n",
      "Prob(Omnibus):                  0.000   Jarque-Bera (JB):              402.036\n",
      "Skew:                           0.565   Prob(JB):                     5.00e-88\n",
      "Kurtosis:                       3.666   Cond. No.                         1.97\n",
      "==============================================================================\n",
      "\n",
      "Notes:\n",
      "[1] Standard Errors assume that the covariance matrix of the errors is correctly specified.\n"
     ]
    }
   ],
   "source": [
    "import statsmodels.api as sm\n",
    "\n",
    "#adding a constant term to both training and test sets\n",
    "X_train_with_const = sm.add_constant(X_train_df)\n",
    "X_test_with_const = sm.add_constant(X_test_df)\n",
    "\n",
    "#initializing and fitting the the OLS regression model to the training data\n",
    "model = sm.OLS(y_train, X_train_with_const).fit()\n",
    "\n",
    "#loop that performs the backward stepwise elimination method\n",
    "while True:\n",
    "    max_p_value = max(model.pvalues) #identifying the independent variable with the highest p-value\n",
    "    if max_p_value > 0.05:  #threshold for statistical significance\n",
    "        excluded_variable = model.pvalues.idxmax() #retrieving the variable name with the highest p-value\n",
    "        \n",
    "        if excluded_variable == \"const\":\n",
    "            break  #stop if the intercept is the variable with the highest p-value\n",
    "        \n",
    "        #dropping the variable from the training set\n",
    "        X_train_with_const = X_train_with_const.drop(columns=[excluded_variable])\n",
    "        \n",
    "        #refitting the model with the remaining variables\n",
    "        model = sm.OLS(y_train, X_train_with_const).fit()\n",
    "        print(f\"Removed variable: {excluded_variable} with p-value {max_p_value}\") #printing the removed variable with its p-value\n",
    "    else:\n",
    "        break #break out the loop if all p-values are below 0.05 sig_level\n",
    "\n",
    "print(model.summary())"
   ]
  },
  {
   "cell_type": "markdown",
   "id": "dc5c2a4d-bbb6-4b31-93ad-6757608e5c96",
   "metadata": {},
   "source": [
    "<p>In this code, I optimized the Ordinary Least Squares (OLS) regression model by performing the backward stepwise elimination method. The backward stepwise elimination method simplifies the model and improves its performance by including all the independent variables in the model and iteratively removing the least significant variables with p-values above 0.05, until all remaining variables are statistically significant. Before optimizing the model, I used the add_constant() function from statsmodels library to add a constant term to both training and test sets. Then, I initialized and fit the OLS regression model to the training data. I created a while loop that performs the backward stepwise elimination method. Inside the loop, the function pvalues retrieves the independent variable with the highest p-value. If the variable's p-value is greater than the significance level (0.05), the variable gets removed from the training dataset. After the removal process, the model gets refitted using the updated training dataset. The loop continues until all the remaining variables have p-values below 0.05, indicating that all variables are statistically significant. After the loop completes, the optimized regression model's summary is displayed using the summary() function.</p>\n",
    "\n",
    "<p>We'll go over several key metrics from this OLS regression results. The R-squared value of the regression model is 0.638, indicating that 63.8% of the variance in housing prices is explained by the 7 remaining principal components. This R-squared value suggests that there is a fairly strong relationship between the principal components and the dependent variable Price. The adjusted R-squared value of the model is 0.637 and it is slightly lower than the R-squared value, which means the model is not overfitting and does not include unnecessary principal components because the adjusted R-squared value did not get penalized as much. This confirms the effectiveness of applying the backward stepwise elimination method to the regression model, as all of the principal components that were retained in the model are efficient and relevant for predicting house prices.</p>\n",
    "\n",
    "<p>The F-statistic value of the regression model is 1407, indicating that the overall model is statistically significant and provides a much better fit to the data compared to a model without any predictors. The Prob (F-statistic) value is 0.00, which means the model is statistically significant as a whole and its principal components have a strong relationship with the dependent variable Price.</p>\n",
    "\n",
    "<p>Regarding coefficient estimates, the principal components with a positive coefficient are PC1, PC3, PC4, and PC10. These components increase house prices when they increase. The principal components with a negative coefficient are PC2, PC7, and PC8. These components decrease house prices when they increase. As for the p-values, PC1, PC2, PC3, PC4, PC7, PC8, and PC10 are all statistically significant predictors of housing prices, as their p-values are below 0.05. These retained principal components play a key role in determining variations in housing prices. The variables PC9, PC5, and PC6 were removed from the model using the backward stepwise elimination method due to their p-values exceeding 0.05, indicating they were not statistically significant.</p>"
   ]
  },
  {
   "cell_type": "markdown",
   "id": "11e8b74b-1364-4db6-a0df-dedc14365665",
   "metadata": {},
   "source": [
    "### F3.  Give the mean squared error (MSE) of the optimized model used on the training set"
   ]
  },
  {
   "cell_type": "code",
   "execution_count": 37,
   "id": "1dfdcacb-2112-428c-978d-8f859e064e8c",
   "metadata": {},
   "outputs": [
    {
     "name": "stdout",
     "output_type": "stream",
     "text": [
      "Mean Squared Error (MSE) on the training set: 8220717571.945743\n"
     ]
    }
   ],
   "source": [
    "from sklearn.metrics import mean_squared_error\n",
    "\n",
    "#generating predictions on the training set using the optimized model\n",
    "y_train_pred = model.predict(X_train_with_const)\n",
    "\n",
    "#calculating the MSE value on the training set\n",
    "mse_train = mean_squared_error(y_train, y_train_pred)\n",
    "print(\"Mean Squared Error (MSE) on the training set:\", mse_train)"
   ]
  },
  {
   "cell_type": "markdown",
   "id": "2d49264b-5511-4e84-99a6-ca027b211f25",
   "metadata": {},
   "source": [
    "<p>In this code, I used the optimized regression model to generate predictions on the training dataset, X_train_with_const. The predicted values for the target variable, Price, were stored in the y_train_pred variable. Then, I calculated the average squared difference between the predicted and actual values by using the mean_squared_error() function from sklearn. The Mean Squared Error (MSE) on the training set is 8220717571.94, which represents the average squared difference between predicted and actual house prices. This large MSE value should be expected because the house prices in the dataset are typically in the range of hundreds of thousands. This MSE value also means that the model makes moderately accurate predictions.</p>"
   ]
  },
  {
   "cell_type": "markdown",
   "id": "c4a18f78-4012-47e4-87ee-9efb24df48a5",
   "metadata": {},
   "source": [
    "### F4. Run the prediction on the test dataset using the optimized regression model to give the accuracy of the prediction model based on the mean squared error (MSE). "
   ]
  },
  {
   "cell_type": "code",
   "execution_count": 38,
   "id": "f252ba2d-4b98-4943-a90e-082d27d42f98",
   "metadata": {},
   "outputs": [
    {
     "name": "stdout",
     "output_type": "stream",
     "text": [
      "Mean Squared Error (MSE) on the test set: 7782198044.086077\n"
     ]
    }
   ],
   "source": [
    "#ensuring that the test set has the same columns as the optimized training set\n",
    "X_test_with_const = X_test_with_const[X_train_with_const.columns]\n",
    "\n",
    "#generating predictions on the test set using the optimized model\n",
    "y_test_pred = model.predict(X_test_with_const)\n",
    "\n",
    "#calculating the MSE value on the test set\n",
    "mse_test = mean_squared_error(y_test, y_test_pred)\n",
    "print(\"Mean Squared Error (MSE) on the test set:\", mse_test)"
   ]
  },
  {
   "cell_type": "markdown",
   "id": "da934f99-313a-4527-8a35-b85d3456cf4e",
   "metadata": {},
   "source": [
    "<p>In this code, I started by ensuring that the columns in the test set were aligned with the columns in the optimized training set to get consistent results. I used the optimized regression model to make predictions on the test set, X_test_with_const. The model's predicted values are stored in the y_test_pred variable. Then, I compared the predicted prices with actual test prices and calculated their average squared difference by using the mean_squared_error() function from sklearn. The Mean Squared Error (MSE) on the test set is 7782198044.08, which represents the average squared difference between the actual and predicted house prices for the test dataset. The minimal difference between the training and test set MSE values suggests that the optimized regression model performs equally well on both the training data and new data. This also means that the model achieves a balance between underfitting and overfitting, making it well-suited for predicting house prices with acceptable accuracy.</p>"
   ]
  },
  {
   "cell_type": "markdown",
   "id": "86c46f58-b4f1-46fa-ba92-2770f278b6d4",
   "metadata": {},
   "source": [
    "### G1. List the packages or libraries you have chosen for Python and justify them"
   ]
  },
  {
   "cell_type": "markdown",
   "id": "746d0d2c-cd06-46d8-9fdf-0dd96d5c77aa",
   "metadata": {},
   "source": [
    "<p>The libraries that I have used throughout the regression analysis are pandas, numpy, matplotlib, scikit-learn, and statsmodels. I used the pandas library primarily for data manipulation and analysis. For example, the read_csv() function from pandas allowed me to read and load the housing dataset into a pandas dataframe. Another example is the describe() function from pandas, and the function retrieved the descriptive statistics for each variable in the data. The to_csv() function is also another helpful function from pandas, as it was responsible for saving both training and test sets as CSV files so I could use them for submission. The numpy library is a valuable library for numerical operations. Two of the functions from the numpy library that I used in the analysis were the array and shape functions. The array function helped me convert the PCA-transformed data into numpy arrays for compatibility with the scikit-learn functions. As for the shape function, it allowed me to check the dimensions of both the training and test datasets. Matplotlib is also another valuable library in the regression analysis, as it helped me generate the scree plot that was used to determine the optimal number of components for PCA. Matplotlib also allowed me to customize the title and the labels for the scree plot to make it look presentable. The scikit-learn library is a useful library for machine learning. The train_test_split() function from scikit-learn allowed me to split the housing dataset into training and test sets for regression modeling. Also, the standardscaler() function from scikit-learn was reponsible for standardizing the continuous variables in the dataset to ensure compatibility for PCA. Additionally, scikit-learn contains functions that evaluate model performance like the mean_squared_error() function, which was used in the analysis to examine the performance of the optimized regression model on both the training and test sets. I used the statsmodels library to build a statistical model. The OLS() function from statsmodels created the regression model that was optimized during the backward stepwise elimination process, and provided model summaries that include coefficients, p-values, and R-squared.</p>"
   ]
  },
  {
   "cell_type": "markdown",
   "id": "9f8bd46c-bd45-43bc-9316-97c45e2a99a2",
   "metadata": {},
   "source": [
    "### G2. Discuss the method used to optimize the model and justification for the approach"
   ]
  },
  {
   "cell_type": "markdown",
   "id": "5f82e171-5d3d-48ac-80a8-96f69c28fe34",
   "metadata": {},
   "source": [
    "<p>The backward stepwise elimination method was the method used to optimize the regression model. This method \"begins with a model that contains all variables then starts removing the least significant variables one after the other until a pre-specified stopping rule is reached\" (Chouiery, 2019, par. 12). This method generally improves the model's performance by eliminating unnecessary predictors that do not significantly impact the target variable. In our data analysis, I built a while-loop that performs the backward stepwise elimination method. The method starts by fitting the regression model to the training data, which includes all 10 principal components. Then, the pvalues function retrieves the principal component with the highest p-value and checks whether the p-value exceeds 0.05. If it does, the principal component gets removed from the training dataset. After the removal process, the regression model gets refitted using the updated training dataset. The process repeats until all remaining components have p-values less than 0.05. The removed components were PC9, PC5, and PC6 since they had p-values exceeding 0.05, which indicates that they did not significantly impact housing price prediction. The components that were retained are PC1, PC2, PC3, PC4, PC7, PC8 and PC10 since they have p-values less than 0.05, indicating that they contribute meaningfully to predicting housing prices.</p>\n",
    "\n",
    "<p>The justification for applying the backward stepwise elimination method to the regression model is to reduce the complexity of the model by eliminating principal components that do not have significant influence on predicting house prices. This makes the model simpler and easier to interpret. The optimization method also improves the model's performance by lowering its risk of overfitting since the model focuses solely on the significant components that impact housing prices. This results in improved generalization to unseen data.</p>"
   ]
  },
  {
   "cell_type": "markdown",
   "id": "a8d0ee97-be5b-4d96-9a19-ce59a6d984ab",
   "metadata": {},
   "source": [
    "### G3. Discuss the verification of assumptions used to create the optimized model"
   ]
  },
  {
   "cell_type": "markdown",
   "id": "d0e9d6dc-ab86-4bb5-8e25-e9bb448fe7b6",
   "metadata": {},
   "source": [
    "#### Linearity Assumption"
   ]
  },
  {
   "cell_type": "code",
   "execution_count": 39,
   "id": "f654ce2a-894d-4602-b7ab-3b9af3f10351",
   "metadata": {},
   "outputs": [
    {
     "data": {
      "image/png": "[encoded data removed]",
      "text/plain": [
       "<Figure size 640x480 with 1 Axes>"
      ]
     },
     "metadata": {},
     "output_type": "display_data"
    }
   ],
   "source": [
    "#Linearity assumption where the relationship between the principal components and the target variable Price should be linear\n",
    "\n",
    "residuals = y_train - y_train_pred  #calculating residuals\n",
    "plt.scatter(y_train_pred, residuals)\n",
    "plt.axhline(0, color='red', linestyle='-')\n",
    "plt.title('Residuals vs Predicted Values')\n",
    "plt.xlabel('Predicted Values')\n",
    "plt.ylabel('Residuals')\n",
    "plt.show()"
   ]
  },
  {
   "cell_type": "markdown",
   "id": "413c629a-fa65-4d9f-856c-df1454b529c6",
   "metadata": {},
   "source": [
    "#### Independence of Residuals Assumption"
   ]
  },
  {
   "cell_type": "code",
   "execution_count": 40,
   "id": "5f514c48-e080-451c-8c62-3bc96e60f8b8",
   "metadata": {},
   "outputs": [
    {
     "name": "stdout",
     "output_type": "stream",
     "text": [
      "Durbin-Watson statistic: 2.0306845109939955\n"
     ]
    }
   ],
   "source": [
    "#Independence of residuals assumption where residuals should not be correlated with each other\n",
    "from statsmodels.stats.stattools import durbin_watson\n",
    "\n",
    "#calculating the Durbin-Watson statistic\n",
    "dw_statistic = durbin_watson(model.resid)\n",
    "print(f\"Durbin-Watson statistic: {dw_statistic}\")"
   ]
  },
  {
   "cell_type": "markdown",
   "id": "71e58969-6e6c-434b-ac6f-6b24c1c9194d",
   "metadata": {},
   "source": [
    "#### No Multicollinearity Assumption"
   ]
  },
  {
   "cell_type": "code",
   "execution_count": 41,
   "id": "57218129-0eba-426b-81ea-8546c3f87097",
   "metadata": {},
   "outputs": [
    {
     "name": "stdout",
     "output_type": "stream",
     "text": [
      "  feature       VIF\n",
      "0   const  1.000189\n",
      "1     PC1  1.000213\n",
      "2     PC2  1.000129\n",
      "3     PC3  1.000126\n",
      "4     PC4  1.000115\n",
      "5     PC7  1.000239\n",
      "6     PC8  1.000212\n",
      "7    PC10  1.000185\n"
     ]
    }
   ],
   "source": [
    "#No Multicollinearity assumption where there should not be strong correlations between predictor variables in the regression model.\n",
    "from statsmodels.stats.outliers_influence import variance_inflation_factor\n",
    "\n",
    "vif_table = pd.DataFrame()\n",
    "vif_table[\"feature\"] = X_train_with_const.columns\n",
    "vif_table[\"VIF\"] = [variance_inflation_factor(X_train_with_const.values, i)\n",
    "                   for i in range(X_train_with_const.shape[1])]\n",
    "\n",
    "print(vif_table)"
   ]
  },
  {
   "cell_type": "markdown",
   "id": "9c598779-6981-4d17-8b8d-de58d18bdd2b",
   "metadata": {},
   "source": [
    "<p>There are three assumptions that I have verified for the optimized regression model to confirm its accuracy and validity for predicting housing prices. The first assumption is linearity where the relationship between the principal components and the target variable Price should be linear. I created a residual plot to verify the linearity assumption in the model. The residuals were calculated by subtracting the predicted house prices from the actual house prices. In the residual plot, the residuals are distributed randomly around the red center line of zero, which indicates that the model effectively represents the linear relationship between the principal components and Price. There are also no distinct patterns in the residuals, suggesting that the model satisfied the linearity assumption. The second assumption is independence of residuals where residuals should not be correlated with each other. To verify that the residuals in the model are independent, I used the Durbin-Watson test, which checks for autocorrelation in the residuals. A Durbin-Watson statistic value of 2 implies no autocorrelation, whereas values above or below 2 imply negative or positive correlation, respectively. The Durbin-Watson statistic value of the regression model is 2.03, which is very close to 2 indicating that there is no autocorrelation and the residuals in the model are independent. Therefore, the model satisfied the independence of residuals assumption. The third assumption is no multicollinearity, which means that there should not be strong correlations between predictor variables in the regression model. Since the regression model uses principal components that are uncorrelated, this inherently removes multicollinearity. However, I wanted to confirm this so I used the Variance Inflation Factor (VIF), which measures the degree of multicollinearity in the model. A VIF value of 1 implies there is no multicollinearity, whereas values above 5 or 10 imply significant multicollinearity. According to the VIF table, all principal components have a VIF value close to 1, indicating there is no multicollinearity in the model and the components are independent of each other. Therefore, the model satisfied the no multicollinearity assumption.</p>"
   ]
  },
  {
   "cell_type": "markdown",
   "id": "f022fb39-28be-4702-a226-ff9d9ec9d638",
   "metadata": {},
   "source": [
    "### G4. Provide the regression equation and discuss the coefficient estimates (REVISION FIXED)"
   ]
  },
  {
   "cell_type": "markdown",
   "id": "a2648805-2c2d-4124-a452-e5e0adcd19c6",
   "metadata": {},
   "source": [
    "<p><b>Regression Equation:</b><i> Y = Intercept + (Coefficient of X1) * X1 + (Coefficient of X2) * X2 + ... + (Coefficient of Xn) * Xn</i></p>\n",
    "<p><b>Coefficients from our regression output:</b><i> Price = 306700 + 61890 * PC1 - 24130 * PC2 + 30420 * PC3 + 4530 * PC4 - 3077 * PC7 - 3915 * PC8 + 9282 * PC10</i></p>"
   ]
  },
  {
   "cell_type": "markdown",
   "id": "8af8a211-eca0-40a6-a4cc-d2a70c887d28",
   "metadata": {},
   "source": [
    "<p>The intercept value of 306700 represents the starting predicted price when all principal components are set to zero. PC1 has a coefficient value of 61890, indicating that for each one-unit increase in PC1, the predicted housing price increases by \\$61,890. PC2 has a coefficient value of -24130, indicating that for each one-unit increase in PC2, the predicted housing price decreases by \\$24,130. PC3 has a coefficient value of 30420, indicating that for each one-unit increase in PC3, the predicted housing price increases by \\$30,420. PC4 has a coefficient value of 4530, indicating that for each one-unit increase in PC4, the predicted housing price increases by \\$4,530. PC7 has a coefficient value of -3070, indicating that for each one-unit increase in PC7, the predicted housing price decreases by \\$3,070. PC8 has a coefficient value of -3915, indicating that for each one-unit increase in PC8, the predicted housing price decreases by \\$3,915. PC10 has a coefficient value of 9282, indicating that for each one-unit increase in PC10, the predicted housing price increases by \\$9,282.</p>\n",
    "\n",
    "<p>To summarize, the principal components with positive coefficient values are PC1, PC3, PC4, and PC10. These components increase predicted housing prices when their values increase. The principal components with negative coefficient values are PC2, PC7, and PC8. These components decrease predicted housing prices when their values increase. Since PC1 is the component that captures the most variance, organizations should focus on key variables that have high positive contributions in PC1 such as SquareFootage, SchoolRating, RenovationQuality, and PreviousSalePrice, as seen from the loadings matrix in part E1.</p>"
   ]
  },
  {
   "cell_type": "markdown",
   "id": "8c076199-a4eb-4048-a5e8-f1ce364d8e04",
   "metadata": {},
   "source": [
    "### G5. Discuss the model metrics"
   ]
  },
  {
   "cell_type": "markdown",
   "id": "f5ea4a3f-166c-48cd-ba0f-2568a9bcf333",
   "metadata": {},
   "source": [
    "<p>The optimized regression model's R-squared value on the training set is 0.638, which means 63.8% of the variance in housing prices is explained by the model. This suggests that the principal components that were retained during the backward stepwise elimination process contribute meaningfully to explaining the variance in housing prices. The adjusted R-squared value on the training set is 0.637, which is only 0.001 lower than the R-squared value. This very small gap between R-squared and adjusted R-squared confirms that the retained principal components in the model are relevant and do not overly complicate the model because the adjusted R-squared value did not get penalized as much. Also, this small difference suggests that the model doesn't suffer significantly from overfitting.</p>\n",
    "\n",
    "<p>The Mean Squared Error (MSE) on the training set is 8220717571.94, whereas the MSE on the test set is 7782198044.08. The training and test MSE values are highly similar, indicating that the optimized regression model performs equally well on both the training data and unseen test data. The close values also suggest that the model isn't overfitting to the training set, making it reliable for predicting house prices on new data.</p>"
   ]
  },
  {
   "cell_type": "markdown",
   "id": "84eb8cfc-d110-461e-908e-9c8523a6c551",
   "metadata": {},
   "source": [
    "### G6. Discuss the results and implications of your prediction analysis"
   ]
  },
  {
   "cell_type": "markdown",
   "id": "567953e4-98df-45ce-aff9-fff55d3938bc",
   "metadata": {},
   "source": [
    "<p>The optimized regression model shows strong generalization to new data and achieves reasonable prediction accuracy for housing prices, as indicated by similar training and test MSE values. It also helps that the seven principal components retained in the model through the backward stepwise elimination process significantly explain the variability in housing prices, as shown in the model's R-squared and adjusted R-squared values. These components have p-values below 0.05, making them statistically significant predictors of housing prices. The components with positive coefficient estimates are PC1, PC3, PC4, and PC10, meaning that they increase predicted housing prices when their values increase. The components with negative coefficient estimates are PC2, PC7, and PC8, meaning that they decrease predicted housing prices when their values increase. Regarding the model's assumptions, it has been verified that the regression model satisfied the assumptions of linearity, independence of residuals, and no multicollinearity. </p>\n",
    "\n",
    "<p>Overall, the optimized regression model effectively predicts housing prices with reasonable accuracy and generalization, as indicated by its R-squared and adjusted R-squared values, similar MSE values for both training and test sets, and statistically significant coefficients. However, it is  clear that the model can still be improved to achieve better predictive accuracy.</p>"
   ]
  },
  {
   "cell_type": "markdown",
   "id": "e359b0ff-884a-48aa-903d-8a06b42b26e9",
   "metadata": {},
   "source": [
    "### G7. Recommend a course of action for the real-world organizational situation from part B1 based on your results and implications discussed in part E6"
   ]
  },
  {
   "cell_type": "code",
   "execution_count": 42,
   "id": "62ce3d19-c2f1-42ba-abaf-95b4e40b61eb",
   "metadata": {},
   "outputs": [
    {
     "name": "stdout",
     "output_type": "stream",
     "text": [
      "                           PC1       PC3       PC4      PC10\n",
      "SquareFootage         0.324961  0.246368 -0.071753  0.337897\n",
      "NumBathrooms          0.281964  0.234908 -0.100779 -0.186541\n",
      "NumBedrooms           0.290224 -0.008796  0.322330 -0.089710\n",
      "BackyardSpace         0.094886 -0.095680 -0.284129 -0.033898\n",
      "CrimeRate            -0.112615  0.595225  0.032437 -0.274619\n",
      "SchoolRating          0.382476 -0.230761  0.206832  0.015227\n",
      "AgeOfHome            -0.143319  0.154037  0.507138 -0.475966\n",
      "DistanceToCityCenter -0.200229  0.063212  0.443105  0.690908\n",
      "EmploymentRate        0.129430 -0.582757  0.250128 -0.228568\n",
      "PropertyTaxRate      -0.143436  0.144715  0.456297  0.037041\n",
      "RenovationQuality     0.413570 -0.002008  0.162036  0.028457\n",
      "LocalAmenities        0.197165  0.105889  0.043066 -0.019435\n",
      "TransportAccess       0.200527  0.103430  0.045040 -0.027781\n",
      "PreviousSalePrice     0.463260  0.239081  0.042383  0.081923\n"
     ]
    }
   ],
   "source": [
    "#only including the original 14 independent variables\n",
    "initial_features = features.columns.tolist()\n",
    "\n",
    "#creating the loading matrix\n",
    "loadings_df = pd.DataFrame(\n",
    "    pca.components_.T, \n",
    "    columns=[f'PC{i+1}' for i in range(pca.n_components_)], \n",
    "    index=initial_features\n",
    ")\n",
    "\n",
    "#displaying loadings for principal components with significant positive contributions to housing prices\n",
    "print(loadings_df[['PC1', 'PC3', 'PC4', 'PC10']])"
   ]
  },
  {
   "cell_type": "markdown",
   "id": "fd415224-2da6-41f6-aa80-98ef8bd109f4",
   "metadata": {},
   "source": [
    "<p>I created a loading matrix for principal components (PC1, PC3, PC4 & PC10) that have positive coefficient estimates to focus on components that have a positive influence to housing prices. In PC1, the variables with high positive loadings are RenovationQuality, SchoolRating, SquareFootage, and PreviousSalePrice. In PC3, the variables with high positive loadings are CrimeRate and EmploymentRate. In PC4, the variables with high positive loadings are AgeOfHome, DistanceToCityCenter, and PropertyTaxRate. In PC10, the variables with high positive loadings are SquareFootage, AgeOfHome, and CrimeRate. These variables with high positive loadings should be prioritized when acting on the insights from PCA.</p>\n",
    "\n",
    "<p>Based on the findings and insights from our regression model, a course of action that organizations like real estate companies or developers can perform is to focus on key features that drive housing prices to maximize their profitability. For example, since RenovationQuality has a significant positive relationship with housing prices, organizations should invest in high-quality renovations like upgrading interior and exterior features to increase property prices. Another example is prioritizing building larger properties because properties with larger square footage are valued more, as indicated by their positive loading. Organizations should also consider building properties in areas with low crime rates and high employment rates because these areas tend to be more desirable to potential buyers and command higher property values.</p>"
   ]
  },
  {
   "cell_type": "markdown",
   "id": "418a0cdd-d284-4d39-9bd6-a559a892ebe0",
   "metadata": {},
   "source": [
    "### H. Panopto Recording\n",
    "\n",
    "<p><b>Link:</b> https://wgu.hosted.panopto.com/Panopto/Pages/Viewer.aspx?id=9488e1aa-2c9b-4491-9591-b23301655ca4</p>"
   ]
  },
  {
   "cell_type": "markdown",
   "id": "b5d88a1a-c2d3-4feb-bc89-d6e63fbffb0e",
   "metadata": {},
   "source": [
    "### I. Sources\n",
    "\n",
    "<pre>\n",
    "Choueiry, G. (2019, October 26). <i>Understand Forward and Backward Stepwise Regression</i>. Quantifying Health. https://quantifyinghealth.com/stepwise-selection/ \n",
    "</pre>"
   ]
  },
  {
   "cell_type": "code",
   "execution_count": null,
   "id": "6f4f517a-e42e-4621-b5ad-c666ec292543",
   "metadata": {},
   "outputs": [],
   "source": []
  }
 ],
 "metadata": {
  "kernelspec": {
   "display_name": "Python 3 (ipykernel)",
   "language": "python",
   "name": "python3"
  },
  "language_info": {
   "codemirror_mode": {
    "name": "ipython",
    "version": 3
   },
   "file_extension": ".py",
   "mimetype": "text/x-python",
   "name": "python",
   "nbconvert_exporter": "python",
   "pygments_lexer": "ipython3",
   "version": "3.11.7"
  }
 },
 "nbformat": 4,
 "nbformat_minor": 5
}
